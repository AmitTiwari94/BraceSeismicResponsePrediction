{
 "cells": [
  {
   "cell_type": "code",
   "execution_count": 16,
   "metadata": {},
   "outputs": [
    {
     "name": "stdout",
     "output_type": "stream",
     "text": [
      "Requirement already satisfied: boruta in c:\\users\\asus\\anaconda3\\lib\\site-packages (0.3)\n",
      "Requirement already satisfied: scipy>=0.17.0 in c:\\users\\asus\\anaconda3\\lib\\site-packages (from boruta) (1.5.0)\n",
      "Requirement already satisfied: scikit-learn>=0.17.1 in c:\\users\\asus\\anaconda3\\lib\\site-packages (from boruta) (0.23.1)\n",
      "Requirement already satisfied: numpy>=1.10.4 in c:\\users\\asus\\anaconda3\\lib\\site-packages (from boruta) (1.18.5)\n",
      "Requirement already satisfied: threadpoolctl>=2.0.0 in c:\\users\\asus\\anaconda3\\lib\\site-packages (from scikit-learn>=0.17.1->boruta) (2.1.0)\n",
      "Requirement already satisfied: joblib>=0.11 in c:\\users\\asus\\anaconda3\\lib\\site-packages (from scikit-learn>=0.17.1->boruta) (0.16.0)\n",
      "Requirement already satisfied: xgboost in c:\\users\\asus\\anaconda3\\lib\\site-packages (1.3.3)\n",
      "Requirement already satisfied: scipy in c:\\users\\asus\\anaconda3\\lib\\site-packages (from xgboost) (1.5.0)\n",
      "Requirement already satisfied: numpy in c:\\users\\asus\\anaconda3\\lib\\site-packages (from xgboost) (1.18.5)\n"
     ]
    }
   ],
   "source": [
    "!pip install boruta\n",
    "!pip install xgboost"
   ]
  },
  {
   "cell_type": "code",
   "execution_count": 17,
   "metadata": {},
   "outputs": [],
   "source": [
    "import pandas as pd\n",
    "import matplotlib.pyplot as plt\n",
    "%matplotlib inline\n",
    "import numpy as np\n",
    "from sklearn.linear_model import LinearRegression, LogisticRegression\n",
    "from sklearn.ensemble import BaggingRegressor\n",
    "from sklearn.linear_model import LogisticRegression\n",
    "from sklearn.model_selection import train_test_split\n",
    "from sklearn.ensemble import RandomForestRegressor \n",
    "from sklearn import metrics\n",
    "from sklearn.tree import DecisionTreeRegressor\n",
    "from sklearn.impute import SimpleImputer\n",
    "from sklearn.preprocessing import StandardScaler\n",
    "from sklearn.preprocessing import MinMaxScaler\n",
    "import matplotlib.pyplot as plt\n",
    "import seaborn as sns\n",
    "from xgboost import XGBRegressor\n",
    "from xgboost import plot_importance\n",
    "from sklearn.metrics import mean_squared_error\n",
    "from sklearn.linear_model import LassoCV\n",
    "from sklearn.model_selection import cross_val_score\n",
    "import matplotlib\n",
    "from boruta import BorutaPy\n",
    "from sklearn import model_selection\n",
    "from scipy import stats\n",
    "from sklearn import neighbors\n",
    "from sklearn.svm import SVR\n",
    "from sklearn.ensemble import GradientBoostingRegressor\n",
    "from sklearn.feature_selection import RFE\n",
    "from sklearn.linear_model import LogisticRegression\n",
    "from sklearn.pipeline import Pipeline\n",
    "import matplotlib.lines as mlines"
   ]
  },
  {
   "cell_type": "code",
   "execution_count": 18,
   "metadata": {},
   "outputs": [],
   "source": [
    "df=pd.read_csv('Dataset-Final.csv')"
   ]
  },
  {
   "cell_type": "markdown",
   "metadata": {},
   "source": [
    "#### Original Dataframe"
   ]
  },
  {
   "cell_type": "code",
   "execution_count": 19,
   "metadata": {},
   "outputs": [
    {
     "data": {
      "text/html": [
       "<div>\n",
       "<style scoped>\n",
       "    .dataframe tbody tr th:only-of-type {\n",
       "        vertical-align: middle;\n",
       "    }\n",
       "\n",
       "    .dataframe tbody tr th {\n",
       "        vertical-align: top;\n",
       "    }\n",
       "\n",
       "    .dataframe thead th {\n",
       "        text-align: right;\n",
       "    }\n",
       "</style>\n",
       "<table border=\"1\" class=\"dataframe\">\n",
       "  <thead>\n",
       "    <tr style=\"text-align: right;\">\n",
       "      <th></th>\n",
       "      <th>Test no.</th>\n",
       "      <th>Shape</th>\n",
       "      <th>Steel</th>\n",
       "      <th>Fy</th>\n",
       "      <th>LB</th>\n",
       "      <th>KL/r</th>\n",
       "      <th>w/t ot d/t</th>\n",
       "      <th>E/fy</th>\n",
       "      <th>Lambda</th>\n",
       "      <th>Design State(Global Buckling)</th>\n",
       "      <th>Design State(LocalBuckling)</th>\n",
       "      <th>Design State(At Fracture point)</th>\n",
       "      <th>Fracture life</th>\n",
       "      <th>Fractural Strain</th>\n",
       "      <th>Energy life(N.m)</th>\n",
       "    </tr>\n",
       "  </thead>\n",
       "  <tbody>\n",
       "    <tr>\n",
       "      <th>0</th>\n",
       "      <td>HSS1-1</td>\n",
       "      <td>HSS102x102x6.4</td>\n",
       "      <td>ASTM A500 Grade B</td>\n",
       "      <td>460.0</td>\n",
       "      <td>2985.0</td>\n",
       "      <td>77.00</td>\n",
       "      <td>14.2</td>\n",
       "      <td>434.7</td>\n",
       "      <td>1.180</td>\n",
       "      <td>0.3</td>\n",
       "      <td>1.85</td>\n",
       "      <td>2.7</td>\n",
       "      <td>32.21</td>\n",
       "      <td>0.010790</td>\n",
       "      <td>292836.18</td>\n",
       "    </tr>\n",
       "    <tr>\n",
       "      <th>1</th>\n",
       "      <td>HSS1-2</td>\n",
       "      <td>HSS102x102x6.4</td>\n",
       "      <td>ASTM A500 Grade B</td>\n",
       "      <td>460.0</td>\n",
       "      <td>2985.0</td>\n",
       "      <td>77.00</td>\n",
       "      <td>14.2</td>\n",
       "      <td>434.7</td>\n",
       "      <td>1.180</td>\n",
       "      <td>1.0</td>\n",
       "      <td>2.50</td>\n",
       "      <td>0.3</td>\n",
       "      <td>32.21</td>\n",
       "      <td>0.010790</td>\n",
       "      <td>292836.18</td>\n",
       "    </tr>\n",
       "    <tr>\n",
       "      <th>2</th>\n",
       "      <td>HSS1-3c</td>\n",
       "      <td>HSS102x102x6.4</td>\n",
       "      <td>ASTM A500 Grade B</td>\n",
       "      <td>460.0</td>\n",
       "      <td>2985.0</td>\n",
       "      <td>77.00</td>\n",
       "      <td>14.2</td>\n",
       "      <td>434.7</td>\n",
       "      <td>1.180</td>\n",
       "      <td>0.3</td>\n",
       "      <td>2.10</td>\n",
       "      <td>2.8</td>\n",
       "      <td>32.21</td>\n",
       "      <td>0.010790</td>\n",
       "      <td>292836.18</td>\n",
       "    </tr>\n",
       "    <tr>\n",
       "      <th>3</th>\n",
       "      <td>HSS1-4</td>\n",
       "      <td>HSS102x102x6.4</td>\n",
       "      <td>ASTM A500 Grade B</td>\n",
       "      <td>460.0</td>\n",
       "      <td>2985.0</td>\n",
       "      <td>77.00</td>\n",
       "      <td>14.2</td>\n",
       "      <td>434.7</td>\n",
       "      <td>1.180</td>\n",
       "      <td>0.4</td>\n",
       "      <td>2.70</td>\n",
       "      <td>3.8</td>\n",
       "      <td>32.21</td>\n",
       "      <td>0.010790</td>\n",
       "      <td>292836.18</td>\n",
       "    </tr>\n",
       "    <tr>\n",
       "      <th>4</th>\n",
       "      <td>HSS1-5</td>\n",
       "      <td>HSS102x102x6.4</td>\n",
       "      <td>ASTM A500 Grade B</td>\n",
       "      <td>460.0</td>\n",
       "      <td>2985.0</td>\n",
       "      <td>77.00</td>\n",
       "      <td>14.2</td>\n",
       "      <td>434.7</td>\n",
       "      <td>1.180</td>\n",
       "      <td>0.9</td>\n",
       "      <td>7.90</td>\n",
       "      <td>2.0</td>\n",
       "      <td>32.21</td>\n",
       "      <td>0.010790</td>\n",
       "      <td>292836.18</td>\n",
       "    </tr>\n",
       "    <tr>\n",
       "      <th>...</th>\n",
       "      <td>...</td>\n",
       "      <td>...</td>\n",
       "      <td>...</td>\n",
       "      <td>...</td>\n",
       "      <td>...</td>\n",
       "      <td>...</td>\n",
       "      <td>...</td>\n",
       "      <td>...</td>\n",
       "      <td>...</td>\n",
       "      <td>...</td>\n",
       "      <td>...</td>\n",
       "      <td>...</td>\n",
       "      <td>...</td>\n",
       "      <td>...</td>\n",
       "      <td>...</td>\n",
       "    </tr>\n",
       "    <tr>\n",
       "      <th>411</th>\n",
       "      <td>SOC2</td>\n",
       "      <td>H-50x50x6x6</td>\n",
       "      <td>SS-41</td>\n",
       "      <td>289.0</td>\n",
       "      <td>1970.0</td>\n",
       "      <td>78.71</td>\n",
       "      <td>8.1</td>\n",
       "      <td>691.9</td>\n",
       "      <td>0.953</td>\n",
       "      <td>NaN</td>\n",
       "      <td>NaN</td>\n",
       "      <td>NaN</td>\n",
       "      <td>52.25</td>\n",
       "      <td>0.001445</td>\n",
       "      <td>538087.28</td>\n",
       "    </tr>\n",
       "    <tr>\n",
       "      <th>412</th>\n",
       "      <td>SOC3</td>\n",
       "      <td>H-50x50x6x6</td>\n",
       "      <td>SS-41</td>\n",
       "      <td>257.0</td>\n",
       "      <td>2968.0</td>\n",
       "      <td>120.43</td>\n",
       "      <td>12.4</td>\n",
       "      <td>778.0</td>\n",
       "      <td>1.375</td>\n",
       "      <td>NaN</td>\n",
       "      <td>NaN</td>\n",
       "      <td>NaN</td>\n",
       "      <td>37.56</td>\n",
       "      <td>0.001285</td>\n",
       "      <td>390534.64</td>\n",
       "    </tr>\n",
       "    <tr>\n",
       "      <th>413</th>\n",
       "      <td>RHS1</td>\n",
       "      <td>RHS 150x100x6</td>\n",
       "      <td>AS1163-C350</td>\n",
       "      <td>449.0</td>\n",
       "      <td>2064.0</td>\n",
       "      <td>79.98</td>\n",
       "      <td>18.8</td>\n",
       "      <td>445.3</td>\n",
       "      <td>1.207</td>\n",
       "      <td>NaN</td>\n",
       "      <td>NaN</td>\n",
       "      <td>NaN</td>\n",
       "      <td>24.85</td>\n",
       "      <td>0.002245</td>\n",
       "      <td>203177.04</td>\n",
       "    </tr>\n",
       "    <tr>\n",
       "      <th>414</th>\n",
       "      <td>RHS2</td>\n",
       "      <td>RHS 150x100x6</td>\n",
       "      <td>AS1163-C350</td>\n",
       "      <td>449.0</td>\n",
       "      <td>1388.0</td>\n",
       "      <td>59.97</td>\n",
       "      <td>14.1</td>\n",
       "      <td>445.3</td>\n",
       "      <td>0.905</td>\n",
       "      <td>NaN</td>\n",
       "      <td>NaN</td>\n",
       "      <td>NaN</td>\n",
       "      <td>30.84</td>\n",
       "      <td>0.002245</td>\n",
       "      <td>245464.20</td>\n",
       "    </tr>\n",
       "    <tr>\n",
       "      <th>415</th>\n",
       "      <td>RHS3</td>\n",
       "      <td>RHS 150x100x6</td>\n",
       "      <td>AS1163-C350</td>\n",
       "      <td>449.0</td>\n",
       "      <td>2704.0</td>\n",
       "      <td>59.97</td>\n",
       "      <td>14.1</td>\n",
       "      <td>445.3</td>\n",
       "      <td>0.603</td>\n",
       "      <td>NaN</td>\n",
       "      <td>NaN</td>\n",
       "      <td>NaN</td>\n",
       "      <td>28.55</td>\n",
       "      <td>0.001135</td>\n",
       "      <td>184483.17</td>\n",
       "    </tr>\n",
       "  </tbody>\n",
       "</table>\n",
       "<p>416 rows × 15 columns</p>\n",
       "</div>"
      ],
      "text/plain": [
       "    Test no.           Shape              Steel     Fy      LB    KL/r  \\\n",
       "0     HSS1-1  HSS102x102x6.4  ASTM A500 Grade B  460.0  2985.0   77.00   \n",
       "1     HSS1-2  HSS102x102x6.4  ASTM A500 Grade B  460.0  2985.0   77.00   \n",
       "2    HSS1-3c  HSS102x102x6.4  ASTM A500 Grade B  460.0  2985.0   77.00   \n",
       "3     HSS1-4  HSS102x102x6.4  ASTM A500 Grade B  460.0  2985.0   77.00   \n",
       "4     HSS1-5  HSS102x102x6.4  ASTM A500 Grade B  460.0  2985.0   77.00   \n",
       "..       ...             ...                ...    ...     ...     ...   \n",
       "411     SOC2     H-50x50x6x6              SS-41  289.0  1970.0   78.71   \n",
       "412     SOC3     H-50x50x6x6              SS-41  257.0  2968.0  120.43   \n",
       "413     RHS1   RHS 150x100x6        AS1163-C350  449.0  2064.0   79.98   \n",
       "414     RHS2   RHS 150x100x6        AS1163-C350  449.0  1388.0   59.97   \n",
       "415     RHS3   RHS 150x100x6        AS1163-C350  449.0  2704.0   59.97   \n",
       "\n",
       "     w/t ot d/t   E/fy  Lambda  Design State(Global Buckling)  \\\n",
       "0          14.2  434.7   1.180                            0.3   \n",
       "1          14.2  434.7   1.180                            1.0   \n",
       "2          14.2  434.7   1.180                            0.3   \n",
       "3          14.2  434.7   1.180                            0.4   \n",
       "4          14.2  434.7   1.180                            0.9   \n",
       "..          ...    ...     ...                            ...   \n",
       "411         8.1  691.9   0.953                            NaN   \n",
       "412        12.4  778.0   1.375                            NaN   \n",
       "413        18.8  445.3   1.207                            NaN   \n",
       "414        14.1  445.3   0.905                            NaN   \n",
       "415        14.1  445.3   0.603                            NaN   \n",
       "\n",
       "     Design State(LocalBuckling)  Design State(At Fracture point)  \\\n",
       "0                           1.85                              2.7   \n",
       "1                           2.50                              0.3   \n",
       "2                           2.10                              2.8   \n",
       "3                           2.70                              3.8   \n",
       "4                           7.90                              2.0   \n",
       "..                           ...                              ...   \n",
       "411                          NaN                              NaN   \n",
       "412                          NaN                              NaN   \n",
       "413                          NaN                              NaN   \n",
       "414                          NaN                              NaN   \n",
       "415                          NaN                              NaN   \n",
       "\n",
       "     Fracture life  Fractural Strain  Energy life(N.m)  \n",
       "0            32.21          0.010790         292836.18  \n",
       "1            32.21          0.010790         292836.18  \n",
       "2            32.21          0.010790         292836.18  \n",
       "3            32.21          0.010790         292836.18  \n",
       "4            32.21          0.010790         292836.18  \n",
       "..             ...               ...               ...  \n",
       "411          52.25          0.001445         538087.28  \n",
       "412          37.56          0.001285         390534.64  \n",
       "413          24.85          0.002245         203177.04  \n",
       "414          30.84          0.002245         245464.20  \n",
       "415          28.55          0.001135         184483.17  \n",
       "\n",
       "[416 rows x 15 columns]"
      ]
     },
     "execution_count": 19,
     "metadata": {},
     "output_type": "execute_result"
    }
   ],
   "source": [
    "df"
   ]
  },
  {
   "cell_type": "markdown",
   "metadata": {},
   "source": [
    "#### Impute Values to replace NaN"
   ]
  },
  {
   "cell_type": "code",
   "execution_count": 20,
   "metadata": {},
   "outputs": [],
   "source": [
    "trainingData = df.iloc[:, :].values\n",
    "dataset = df.iloc[:, :].values"
   ]
  },
  {
   "cell_type": "code",
   "execution_count": 21,
   "metadata": {},
   "outputs": [],
   "source": [
    "imputer = SimpleImputer(missing_values=np.nan, strategy='mean')\n",
    "imputer = imputer.fit(trainingData[:, 9:12])\n",
    "dataset[:, 9:12] = imputer.transform(dataset[:, 9:12])"
   ]
  },
  {
   "cell_type": "code",
   "execution_count": 22,
   "metadata": {},
   "outputs": [],
   "source": [
    "x=[]\n",
    "y=[]\n",
    "z=[]\n",
    "for i in range(len(dataset[:,9])):\n",
    "    x.append(dataset[i][9])\n",
    "    y.append(dataset[i][10])\n",
    "    z.append(dataset[i][11])"
   ]
  },
  {
   "cell_type": "code",
   "execution_count": 23,
   "metadata": {},
   "outputs": [],
   "source": [
    "df.insert(10, \"Imputed Design State(GB)\", x)\n",
    "df.insert(12, \"Imputed Design State(LB)\", y)\n",
    "df.insert(14, \"Imputed Design State(FP)\", z)"
   ]
  },
  {
   "cell_type": "code",
   "execution_count": 24,
   "metadata": {},
   "outputs": [],
   "source": [
    "df=np.round(df, decimals=3)"
   ]
  },
  {
   "cell_type": "code",
   "execution_count": 25,
   "metadata": {},
   "outputs": [
    {
     "data": {
      "text/html": [
       "<div>\n",
       "<style scoped>\n",
       "    .dataframe tbody tr th:only-of-type {\n",
       "        vertical-align: middle;\n",
       "    }\n",
       "\n",
       "    .dataframe tbody tr th {\n",
       "        vertical-align: top;\n",
       "    }\n",
       "\n",
       "    .dataframe thead th {\n",
       "        text-align: right;\n",
       "    }\n",
       "</style>\n",
       "<table border=\"1\" class=\"dataframe\">\n",
       "  <thead>\n",
       "    <tr style=\"text-align: right;\">\n",
       "      <th></th>\n",
       "      <th>Test no.</th>\n",
       "      <th>Shape</th>\n",
       "      <th>Steel</th>\n",
       "      <th>Fy</th>\n",
       "      <th>LB</th>\n",
       "      <th>KL/r</th>\n",
       "      <th>w/t ot d/t</th>\n",
       "      <th>E/fy</th>\n",
       "      <th>Lambda</th>\n",
       "      <th>Design State(Global Buckling)</th>\n",
       "      <th>Imputed Design State(GB)</th>\n",
       "      <th>Design State(LocalBuckling)</th>\n",
       "      <th>Imputed Design State(LB)</th>\n",
       "      <th>Design State(At Fracture point)</th>\n",
       "      <th>Imputed Design State(FP)</th>\n",
       "      <th>Fracture life</th>\n",
       "      <th>Fractural Strain</th>\n",
       "      <th>Energy life(N.m)</th>\n",
       "    </tr>\n",
       "  </thead>\n",
       "  <tbody>\n",
       "    <tr>\n",
       "      <th>0</th>\n",
       "      <td>HSS1-1</td>\n",
       "      <td>HSS102x102x6.4</td>\n",
       "      <td>ASTM A500 Grade B</td>\n",
       "      <td>460.0</td>\n",
       "      <td>2985.0</td>\n",
       "      <td>77.00</td>\n",
       "      <td>14.2</td>\n",
       "      <td>434.7</td>\n",
       "      <td>1.180</td>\n",
       "      <td>0.3</td>\n",
       "      <td>0.300</td>\n",
       "      <td>1.85</td>\n",
       "      <td>1.850</td>\n",
       "      <td>2.7</td>\n",
       "      <td>2.700</td>\n",
       "      <td>32.21</td>\n",
       "      <td>0.011</td>\n",
       "      <td>292836.18</td>\n",
       "    </tr>\n",
       "    <tr>\n",
       "      <th>1</th>\n",
       "      <td>HSS1-2</td>\n",
       "      <td>HSS102x102x6.4</td>\n",
       "      <td>ASTM A500 Grade B</td>\n",
       "      <td>460.0</td>\n",
       "      <td>2985.0</td>\n",
       "      <td>77.00</td>\n",
       "      <td>14.2</td>\n",
       "      <td>434.7</td>\n",
       "      <td>1.180</td>\n",
       "      <td>1.0</td>\n",
       "      <td>1.000</td>\n",
       "      <td>2.50</td>\n",
       "      <td>2.500</td>\n",
       "      <td>0.3</td>\n",
       "      <td>0.300</td>\n",
       "      <td>32.21</td>\n",
       "      <td>0.011</td>\n",
       "      <td>292836.18</td>\n",
       "    </tr>\n",
       "    <tr>\n",
       "      <th>2</th>\n",
       "      <td>HSS1-3c</td>\n",
       "      <td>HSS102x102x6.4</td>\n",
       "      <td>ASTM A500 Grade B</td>\n",
       "      <td>460.0</td>\n",
       "      <td>2985.0</td>\n",
       "      <td>77.00</td>\n",
       "      <td>14.2</td>\n",
       "      <td>434.7</td>\n",
       "      <td>1.180</td>\n",
       "      <td>0.3</td>\n",
       "      <td>0.300</td>\n",
       "      <td>2.10</td>\n",
       "      <td>2.100</td>\n",
       "      <td>2.8</td>\n",
       "      <td>2.800</td>\n",
       "      <td>32.21</td>\n",
       "      <td>0.011</td>\n",
       "      <td>292836.18</td>\n",
       "    </tr>\n",
       "    <tr>\n",
       "      <th>3</th>\n",
       "      <td>HSS1-4</td>\n",
       "      <td>HSS102x102x6.4</td>\n",
       "      <td>ASTM A500 Grade B</td>\n",
       "      <td>460.0</td>\n",
       "      <td>2985.0</td>\n",
       "      <td>77.00</td>\n",
       "      <td>14.2</td>\n",
       "      <td>434.7</td>\n",
       "      <td>1.180</td>\n",
       "      <td>0.4</td>\n",
       "      <td>0.400</td>\n",
       "      <td>2.70</td>\n",
       "      <td>2.700</td>\n",
       "      <td>3.8</td>\n",
       "      <td>3.800</td>\n",
       "      <td>32.21</td>\n",
       "      <td>0.011</td>\n",
       "      <td>292836.18</td>\n",
       "    </tr>\n",
       "    <tr>\n",
       "      <th>4</th>\n",
       "      <td>HSS1-5</td>\n",
       "      <td>HSS102x102x6.4</td>\n",
       "      <td>ASTM A500 Grade B</td>\n",
       "      <td>460.0</td>\n",
       "      <td>2985.0</td>\n",
       "      <td>77.00</td>\n",
       "      <td>14.2</td>\n",
       "      <td>434.7</td>\n",
       "      <td>1.180</td>\n",
       "      <td>0.9</td>\n",
       "      <td>0.900</td>\n",
       "      <td>7.90</td>\n",
       "      <td>7.900</td>\n",
       "      <td>2.0</td>\n",
       "      <td>2.000</td>\n",
       "      <td>32.21</td>\n",
       "      <td>0.011</td>\n",
       "      <td>292836.18</td>\n",
       "    </tr>\n",
       "    <tr>\n",
       "      <th>...</th>\n",
       "      <td>...</td>\n",
       "      <td>...</td>\n",
       "      <td>...</td>\n",
       "      <td>...</td>\n",
       "      <td>...</td>\n",
       "      <td>...</td>\n",
       "      <td>...</td>\n",
       "      <td>...</td>\n",
       "      <td>...</td>\n",
       "      <td>...</td>\n",
       "      <td>...</td>\n",
       "      <td>...</td>\n",
       "      <td>...</td>\n",
       "      <td>...</td>\n",
       "      <td>...</td>\n",
       "      <td>...</td>\n",
       "      <td>...</td>\n",
       "      <td>...</td>\n",
       "    </tr>\n",
       "    <tr>\n",
       "      <th>411</th>\n",
       "      <td>SOC2</td>\n",
       "      <td>H-50x50x6x6</td>\n",
       "      <td>SS-41</td>\n",
       "      <td>289.0</td>\n",
       "      <td>1970.0</td>\n",
       "      <td>78.71</td>\n",
       "      <td>8.1</td>\n",
       "      <td>691.9</td>\n",
       "      <td>0.953</td>\n",
       "      <td>NaN</td>\n",
       "      <td>0.497</td>\n",
       "      <td>NaN</td>\n",
       "      <td>1.258</td>\n",
       "      <td>NaN</td>\n",
       "      <td>2.384</td>\n",
       "      <td>52.25</td>\n",
       "      <td>0.001</td>\n",
       "      <td>538087.28</td>\n",
       "    </tr>\n",
       "    <tr>\n",
       "      <th>412</th>\n",
       "      <td>SOC3</td>\n",
       "      <td>H-50x50x6x6</td>\n",
       "      <td>SS-41</td>\n",
       "      <td>257.0</td>\n",
       "      <td>2968.0</td>\n",
       "      <td>120.43</td>\n",
       "      <td>12.4</td>\n",
       "      <td>778.0</td>\n",
       "      <td>1.375</td>\n",
       "      <td>NaN</td>\n",
       "      <td>0.497</td>\n",
       "      <td>NaN</td>\n",
       "      <td>1.258</td>\n",
       "      <td>NaN</td>\n",
       "      <td>2.384</td>\n",
       "      <td>37.56</td>\n",
       "      <td>0.001</td>\n",
       "      <td>390534.64</td>\n",
       "    </tr>\n",
       "    <tr>\n",
       "      <th>413</th>\n",
       "      <td>RHS1</td>\n",
       "      <td>RHS 150x100x6</td>\n",
       "      <td>AS1163-C350</td>\n",
       "      <td>449.0</td>\n",
       "      <td>2064.0</td>\n",
       "      <td>79.98</td>\n",
       "      <td>18.8</td>\n",
       "      <td>445.3</td>\n",
       "      <td>1.207</td>\n",
       "      <td>NaN</td>\n",
       "      <td>0.497</td>\n",
       "      <td>NaN</td>\n",
       "      <td>1.258</td>\n",
       "      <td>NaN</td>\n",
       "      <td>2.384</td>\n",
       "      <td>24.85</td>\n",
       "      <td>0.002</td>\n",
       "      <td>203177.04</td>\n",
       "    </tr>\n",
       "    <tr>\n",
       "      <th>414</th>\n",
       "      <td>RHS2</td>\n",
       "      <td>RHS 150x100x6</td>\n",
       "      <td>AS1163-C350</td>\n",
       "      <td>449.0</td>\n",
       "      <td>1388.0</td>\n",
       "      <td>59.97</td>\n",
       "      <td>14.1</td>\n",
       "      <td>445.3</td>\n",
       "      <td>0.905</td>\n",
       "      <td>NaN</td>\n",
       "      <td>0.497</td>\n",
       "      <td>NaN</td>\n",
       "      <td>1.258</td>\n",
       "      <td>NaN</td>\n",
       "      <td>2.384</td>\n",
       "      <td>30.84</td>\n",
       "      <td>0.002</td>\n",
       "      <td>245464.20</td>\n",
       "    </tr>\n",
       "    <tr>\n",
       "      <th>415</th>\n",
       "      <td>RHS3</td>\n",
       "      <td>RHS 150x100x6</td>\n",
       "      <td>AS1163-C350</td>\n",
       "      <td>449.0</td>\n",
       "      <td>2704.0</td>\n",
       "      <td>59.97</td>\n",
       "      <td>14.1</td>\n",
       "      <td>445.3</td>\n",
       "      <td>0.603</td>\n",
       "      <td>NaN</td>\n",
       "      <td>0.497</td>\n",
       "      <td>NaN</td>\n",
       "      <td>1.258</td>\n",
       "      <td>NaN</td>\n",
       "      <td>2.384</td>\n",
       "      <td>28.55</td>\n",
       "      <td>0.001</td>\n",
       "      <td>184483.17</td>\n",
       "    </tr>\n",
       "  </tbody>\n",
       "</table>\n",
       "<p>416 rows × 18 columns</p>\n",
       "</div>"
      ],
      "text/plain": [
       "    Test no.           Shape              Steel     Fy      LB    KL/r  \\\n",
       "0     HSS1-1  HSS102x102x6.4  ASTM A500 Grade B  460.0  2985.0   77.00   \n",
       "1     HSS1-2  HSS102x102x6.4  ASTM A500 Grade B  460.0  2985.0   77.00   \n",
       "2    HSS1-3c  HSS102x102x6.4  ASTM A500 Grade B  460.0  2985.0   77.00   \n",
       "3     HSS1-4  HSS102x102x6.4  ASTM A500 Grade B  460.0  2985.0   77.00   \n",
       "4     HSS1-5  HSS102x102x6.4  ASTM A500 Grade B  460.0  2985.0   77.00   \n",
       "..       ...             ...                ...    ...     ...     ...   \n",
       "411     SOC2     H-50x50x6x6              SS-41  289.0  1970.0   78.71   \n",
       "412     SOC3     H-50x50x6x6              SS-41  257.0  2968.0  120.43   \n",
       "413     RHS1   RHS 150x100x6        AS1163-C350  449.0  2064.0   79.98   \n",
       "414     RHS2   RHS 150x100x6        AS1163-C350  449.0  1388.0   59.97   \n",
       "415     RHS3   RHS 150x100x6        AS1163-C350  449.0  2704.0   59.97   \n",
       "\n",
       "     w/t ot d/t   E/fy  Lambda  Design State(Global Buckling)  \\\n",
       "0          14.2  434.7   1.180                            0.3   \n",
       "1          14.2  434.7   1.180                            1.0   \n",
       "2          14.2  434.7   1.180                            0.3   \n",
       "3          14.2  434.7   1.180                            0.4   \n",
       "4          14.2  434.7   1.180                            0.9   \n",
       "..          ...    ...     ...                            ...   \n",
       "411         8.1  691.9   0.953                            NaN   \n",
       "412        12.4  778.0   1.375                            NaN   \n",
       "413        18.8  445.3   1.207                            NaN   \n",
       "414        14.1  445.3   0.905                            NaN   \n",
       "415        14.1  445.3   0.603                            NaN   \n",
       "\n",
       "     Imputed Design State(GB)  Design State(LocalBuckling)  \\\n",
       "0                       0.300                         1.85   \n",
       "1                       1.000                         2.50   \n",
       "2                       0.300                         2.10   \n",
       "3                       0.400                         2.70   \n",
       "4                       0.900                         7.90   \n",
       "..                        ...                          ...   \n",
       "411                     0.497                          NaN   \n",
       "412                     0.497                          NaN   \n",
       "413                     0.497                          NaN   \n",
       "414                     0.497                          NaN   \n",
       "415                     0.497                          NaN   \n",
       "\n",
       "     Imputed Design State(LB)  Design State(At Fracture point)  \\\n",
       "0                       1.850                              2.7   \n",
       "1                       2.500                              0.3   \n",
       "2                       2.100                              2.8   \n",
       "3                       2.700                              3.8   \n",
       "4                       7.900                              2.0   \n",
       "..                        ...                              ...   \n",
       "411                     1.258                              NaN   \n",
       "412                     1.258                              NaN   \n",
       "413                     1.258                              NaN   \n",
       "414                     1.258                              NaN   \n",
       "415                     1.258                              NaN   \n",
       "\n",
       "     Imputed Design State(FP)  Fracture life  Fractural Strain  \\\n",
       "0                       2.700          32.21             0.011   \n",
       "1                       0.300          32.21             0.011   \n",
       "2                       2.800          32.21             0.011   \n",
       "3                       3.800          32.21             0.011   \n",
       "4                       2.000          32.21             0.011   \n",
       "..                        ...            ...               ...   \n",
       "411                     2.384          52.25             0.001   \n",
       "412                     2.384          37.56             0.001   \n",
       "413                     2.384          24.85             0.002   \n",
       "414                     2.384          30.84             0.002   \n",
       "415                     2.384          28.55             0.001   \n",
       "\n",
       "     Energy life(N.m)  \n",
       "0           292836.18  \n",
       "1           292836.18  \n",
       "2           292836.18  \n",
       "3           292836.18  \n",
       "4           292836.18  \n",
       "..                ...  \n",
       "411         538087.28  \n",
       "412         390534.64  \n",
       "413         203177.04  \n",
       "414         245464.20  \n",
       "415         184483.17  \n",
       "\n",
       "[416 rows x 18 columns]"
      ]
     },
     "execution_count": 25,
     "metadata": {},
     "output_type": "execute_result"
    }
   ],
   "source": [
    "df"
   ]
  },
  {
   "cell_type": "markdown",
   "metadata": {},
   "source": [
    "#### Normalizing 'Energy Life' using Z-score normalization"
   ]
  },
  {
   "cell_type": "code",
   "execution_count": 26,
   "metadata": {},
   "outputs": [],
   "source": [
    "el = df[['Fy', 'LB','KL/r','w/t ot d/t','E/fy','Lambda','Imputed Design State(GB)','Imputed Design State(LB)','Imputed Design State(FP)','Fracture life','Fractural Strain','Energy life(N.m)']].values"
   ]
  },
  {
   "cell_type": "code",
   "execution_count": 63,
   "metadata": {},
   "outputs": [],
   "source": [
    "scaler = StandardScaler()\n",
    "ss = scaler.fit_transform(pd.DataFrame(el))\n",
    "features=['Fy', 'LB','KL/r','w/t ot d/t','E/fy','Lambda','Imputed Design State(GB)','Imputed Design State(LB)','Imputed Design State(FP)','Fracture life','Fractural Strain','Energy life(N.m)']"
   ]
  },
  {
   "cell_type": "code",
   "execution_count": 64,
   "metadata": {},
   "outputs": [],
   "source": [
    "df1 = pd.DataFrame(ss, columns=features)"
   ]
  },
  {
   "cell_type": "code",
   "execution_count": 65,
   "metadata": {
    "scrolled": true
   },
   "outputs": [
    {
     "data": {
      "text/html": [
       "<div>\n",
       "<style scoped>\n",
       "    .dataframe tbody tr th:only-of-type {\n",
       "        vertical-align: middle;\n",
       "    }\n",
       "\n",
       "    .dataframe tbody tr th {\n",
       "        vertical-align: top;\n",
       "    }\n",
       "\n",
       "    .dataframe thead th {\n",
       "        text-align: right;\n",
       "    }\n",
       "</style>\n",
       "<table border=\"1\" class=\"dataframe\">\n",
       "  <thead>\n",
       "    <tr style=\"text-align: right;\">\n",
       "      <th></th>\n",
       "      <th>Fy</th>\n",
       "      <th>LB</th>\n",
       "      <th>KL/r</th>\n",
       "      <th>w/t ot d/t</th>\n",
       "      <th>E/fy</th>\n",
       "      <th>Lambda</th>\n",
       "      <th>Imputed Design State(GB)</th>\n",
       "      <th>Imputed Design State(LB)</th>\n",
       "      <th>Imputed Design State(FP)</th>\n",
       "      <th>Fracture life</th>\n",
       "      <th>Fractural Strain</th>\n",
       "      <th>Energy life(N.m)</th>\n",
       "    </tr>\n",
       "  </thead>\n",
       "  <tbody>\n",
       "    <tr>\n",
       "      <th>0</th>\n",
       "      <td>0.954612</td>\n",
       "      <td>0.151195</td>\n",
       "      <td>0.153002</td>\n",
       "      <td>0.140877</td>\n",
       "      <td>-0.883532</td>\n",
       "      <td>0.473590</td>\n",
       "      <td>-0.337260</td>\n",
       "      <td>0.910551</td>\n",
       "      <td>0.351973</td>\n",
       "      <td>-0.519874</td>\n",
       "      <td>-0.425052</td>\n",
       "      <td>-0.448335</td>\n",
       "    </tr>\n",
       "    <tr>\n",
       "      <th>1</th>\n",
       "      <td>0.954612</td>\n",
       "      <td>0.151195</td>\n",
       "      <td>0.153002</td>\n",
       "      <td>0.140877</td>\n",
       "      <td>-0.883532</td>\n",
       "      <td>0.473590</td>\n",
       "      <td>0.861902</td>\n",
       "      <td>1.910522</td>\n",
       "      <td>-2.322422</td>\n",
       "      <td>-0.519874</td>\n",
       "      <td>-0.425052</td>\n",
       "      <td>-0.448335</td>\n",
       "    </tr>\n",
       "    <tr>\n",
       "      <th>2</th>\n",
       "      <td>0.954612</td>\n",
       "      <td>0.151195</td>\n",
       "      <td>0.153002</td>\n",
       "      <td>0.140877</td>\n",
       "      <td>-0.883532</td>\n",
       "      <td>0.473590</td>\n",
       "      <td>-0.337260</td>\n",
       "      <td>1.295155</td>\n",
       "      <td>0.463406</td>\n",
       "      <td>-0.519874</td>\n",
       "      <td>-0.425052</td>\n",
       "      <td>-0.448335</td>\n",
       "    </tr>\n",
       "    <tr>\n",
       "      <th>3</th>\n",
       "      <td>0.954612</td>\n",
       "      <td>0.151195</td>\n",
       "      <td>0.153002</td>\n",
       "      <td>0.140877</td>\n",
       "      <td>-0.883532</td>\n",
       "      <td>0.473590</td>\n",
       "      <td>-0.165951</td>\n",
       "      <td>2.218206</td>\n",
       "      <td>1.577738</td>\n",
       "      <td>-0.519874</td>\n",
       "      <td>-0.425052</td>\n",
       "      <td>-0.448335</td>\n",
       "    </tr>\n",
       "    <tr>\n",
       "      <th>4</th>\n",
       "      <td>0.954612</td>\n",
       "      <td>0.151195</td>\n",
       "      <td>0.153002</td>\n",
       "      <td>0.140877</td>\n",
       "      <td>-0.883532</td>\n",
       "      <td>0.473590</td>\n",
       "      <td>0.690593</td>\n",
       "      <td>10.217976</td>\n",
       "      <td>-0.428059</td>\n",
       "      <td>-0.519874</td>\n",
       "      <td>-0.425052</td>\n",
       "      <td>-0.448335</td>\n",
       "    </tr>\n",
       "    <tr>\n",
       "      <th>...</th>\n",
       "      <td>...</td>\n",
       "      <td>...</td>\n",
       "      <td>...</td>\n",
       "      <td>...</td>\n",
       "      <td>...</td>\n",
       "      <td>...</td>\n",
       "      <td>...</td>\n",
       "      <td>...</td>\n",
       "      <td>...</td>\n",
       "      <td>...</td>\n",
       "      <td>...</td>\n",
       "      <td>...</td>\n",
       "    </tr>\n",
       "    <tr>\n",
       "      <th>411</th>\n",
       "      <td>-1.011743</td>\n",
       "      <td>-0.689258</td>\n",
       "      <td>0.209899</td>\n",
       "      <td>-0.603895</td>\n",
       "      <td>0.927352</td>\n",
       "      <td>-0.063605</td>\n",
       "      <td>0.000218</td>\n",
       "      <td>-0.000192</td>\n",
       "      <td>-0.000155</td>\n",
       "      <td>0.339173</td>\n",
       "      <td>-0.812139</td>\n",
       "      <td>0.238287</td>\n",
       "    </tr>\n",
       "    <tr>\n",
       "      <th>412</th>\n",
       "      <td>-1.379716</td>\n",
       "      <td>0.137119</td>\n",
       "      <td>1.598065</td>\n",
       "      <td>-0.078891</td>\n",
       "      <td>1.533562</td>\n",
       "      <td>0.935057</td>\n",
       "      <td>0.000218</td>\n",
       "      <td>-0.000192</td>\n",
       "      <td>-0.000155</td>\n",
       "      <td>-0.290538</td>\n",
       "      <td>-0.812139</td>\n",
       "      <td>-0.174812</td>\n",
       "    </tr>\n",
       "    <tr>\n",
       "      <th>413</th>\n",
       "      <td>0.828122</td>\n",
       "      <td>-0.611423</td>\n",
       "      <td>0.252156</td>\n",
       "      <td>0.702509</td>\n",
       "      <td>-0.808900</td>\n",
       "      <td>0.537485</td>\n",
       "      <td>0.000218</td>\n",
       "      <td>-0.000192</td>\n",
       "      <td>-0.000155</td>\n",
       "      <td>-0.835372</td>\n",
       "      <td>-0.773430</td>\n",
       "      <td>-0.699351</td>\n",
       "    </tr>\n",
       "    <tr>\n",
       "      <th>414</th>\n",
       "      <td>0.828122</td>\n",
       "      <td>-1.171173</td>\n",
       "      <td>-0.413644</td>\n",
       "      <td>0.128668</td>\n",
       "      <td>-0.808900</td>\n",
       "      <td>-0.177197</td>\n",
       "      <td>0.000218</td>\n",
       "      <td>-0.000192</td>\n",
       "      <td>-0.000155</td>\n",
       "      <td>-0.578601</td>\n",
       "      <td>-0.773430</td>\n",
       "      <td>-0.580961</td>\n",
       "    </tr>\n",
       "    <tr>\n",
       "      <th>415</th>\n",
       "      <td>0.828122</td>\n",
       "      <td>-0.081482</td>\n",
       "      <td>-0.413644</td>\n",
       "      <td>0.128668</td>\n",
       "      <td>-0.808900</td>\n",
       "      <td>-0.891880</td>\n",
       "      <td>0.000218</td>\n",
       "      <td>-0.000192</td>\n",
       "      <td>-0.000155</td>\n",
       "      <td>-0.676765</td>\n",
       "      <td>-0.812139</td>\n",
       "      <td>-0.751688</td>\n",
       "    </tr>\n",
       "  </tbody>\n",
       "</table>\n",
       "<p>416 rows × 12 columns</p>\n",
       "</div>"
      ],
      "text/plain": [
       "           Fy        LB      KL/r  w/t ot d/t      E/fy    Lambda  \\\n",
       "0    0.954612  0.151195  0.153002    0.140877 -0.883532  0.473590   \n",
       "1    0.954612  0.151195  0.153002    0.140877 -0.883532  0.473590   \n",
       "2    0.954612  0.151195  0.153002    0.140877 -0.883532  0.473590   \n",
       "3    0.954612  0.151195  0.153002    0.140877 -0.883532  0.473590   \n",
       "4    0.954612  0.151195  0.153002    0.140877 -0.883532  0.473590   \n",
       "..        ...       ...       ...         ...       ...       ...   \n",
       "411 -1.011743 -0.689258  0.209899   -0.603895  0.927352 -0.063605   \n",
       "412 -1.379716  0.137119  1.598065   -0.078891  1.533562  0.935057   \n",
       "413  0.828122 -0.611423  0.252156    0.702509 -0.808900  0.537485   \n",
       "414  0.828122 -1.171173 -0.413644    0.128668 -0.808900 -0.177197   \n",
       "415  0.828122 -0.081482 -0.413644    0.128668 -0.808900 -0.891880   \n",
       "\n",
       "     Imputed Design State(GB)  Imputed Design State(LB)  \\\n",
       "0                   -0.337260                  0.910551   \n",
       "1                    0.861902                  1.910522   \n",
       "2                   -0.337260                  1.295155   \n",
       "3                   -0.165951                  2.218206   \n",
       "4                    0.690593                 10.217976   \n",
       "..                        ...                       ...   \n",
       "411                  0.000218                 -0.000192   \n",
       "412                  0.000218                 -0.000192   \n",
       "413                  0.000218                 -0.000192   \n",
       "414                  0.000218                 -0.000192   \n",
       "415                  0.000218                 -0.000192   \n",
       "\n",
       "     Imputed Design State(FP)  Fracture life  Fractural Strain  \\\n",
       "0                    0.351973      -0.519874         -0.425052   \n",
       "1                   -2.322422      -0.519874         -0.425052   \n",
       "2                    0.463406      -0.519874         -0.425052   \n",
       "3                    1.577738      -0.519874         -0.425052   \n",
       "4                   -0.428059      -0.519874         -0.425052   \n",
       "..                        ...            ...               ...   \n",
       "411                 -0.000155       0.339173         -0.812139   \n",
       "412                 -0.000155      -0.290538         -0.812139   \n",
       "413                 -0.000155      -0.835372         -0.773430   \n",
       "414                 -0.000155      -0.578601         -0.773430   \n",
       "415                 -0.000155      -0.676765         -0.812139   \n",
       "\n",
       "     Energy life(N.m)  \n",
       "0           -0.448335  \n",
       "1           -0.448335  \n",
       "2           -0.448335  \n",
       "3           -0.448335  \n",
       "4           -0.448335  \n",
       "..                ...  \n",
       "411          0.238287  \n",
       "412         -0.174812  \n",
       "413         -0.699351  \n",
       "414         -0.580961  \n",
       "415         -0.751688  \n",
       "\n",
       "[416 rows x 12 columns]"
      ]
     },
     "execution_count": 65,
     "metadata": {},
     "output_type": "execute_result"
    }
   ],
   "source": [
    "df1"
   ]
  },
  {
   "cell_type": "markdown",
   "metadata": {},
   "source": [
    "#### Normalizing 'Energy Life' using Min-Max Normalization"
   ]
  },
  {
   "cell_type": "code",
   "execution_count": 30,
   "metadata": {},
   "outputs": [],
   "source": [
    "scaler = MinMaxScaler()\n",
    "ss = scaler.fit_transform(pd.DataFrame(el))"
   ]
  },
  {
   "cell_type": "code",
   "execution_count": 31,
   "metadata": {},
   "outputs": [],
   "source": [
    "df2 = pd.DataFrame(ss, columns=features)"
   ]
  },
  {
   "cell_type": "code",
   "execution_count": 32,
   "metadata": {},
   "outputs": [
    {
     "data": {
      "text/html": [
       "<div>\n",
       "<style scoped>\n",
       "    .dataframe tbody tr th:only-of-type {\n",
       "        vertical-align: middle;\n",
       "    }\n",
       "\n",
       "    .dataframe tbody tr th {\n",
       "        vertical-align: top;\n",
       "    }\n",
       "\n",
       "    .dataframe thead th {\n",
       "        text-align: right;\n",
       "    }\n",
       "</style>\n",
       "<table border=\"1\" class=\"dataframe\">\n",
       "  <thead>\n",
       "    <tr style=\"text-align: right;\">\n",
       "      <th></th>\n",
       "      <th>Fy</th>\n",
       "      <th>LB</th>\n",
       "      <th>KL/r</th>\n",
       "      <th>w/t ot d/t</th>\n",
       "      <th>E/fy</th>\n",
       "      <th>Lambda</th>\n",
       "      <th>Imputed Design State(GB)</th>\n",
       "      <th>Imputed Design State(LB)</th>\n",
       "      <th>Imputed Design State(FP)</th>\n",
       "      <th>Fracture life</th>\n",
       "      <th>Fractural Strain</th>\n",
       "      <th>Energy life(N.m)</th>\n",
       "    </tr>\n",
       "  </thead>\n",
       "  <tbody>\n",
       "    <tr>\n",
       "      <th>0</th>\n",
       "      <td>0.628998</td>\n",
       "      <td>0.348908</td>\n",
       "      <td>0.280612</td>\n",
       "      <td>0.228797</td>\n",
       "      <td>0.117461</td>\n",
       "      <td>0.325088</td>\n",
       "      <td>0.038997</td>\n",
       "      <td>0.215305</td>\n",
       "      <td>0.346591</td>\n",
       "      <td>0.215807</td>\n",
       "      <td>0.075188</td>\n",
       "      <td>0.134123</td>\n",
       "    </tr>\n",
       "    <tr>\n",
       "      <th>1</th>\n",
       "      <td>0.628998</td>\n",
       "      <td>0.348908</td>\n",
       "      <td>0.280612</td>\n",
       "      <td>0.228797</td>\n",
       "      <td>0.117461</td>\n",
       "      <td>0.325088</td>\n",
       "      <td>0.136490</td>\n",
       "      <td>0.299611</td>\n",
       "      <td>0.005682</td>\n",
       "      <td>0.215807</td>\n",
       "      <td>0.075188</td>\n",
       "      <td>0.134123</td>\n",
       "    </tr>\n",
       "    <tr>\n",
       "      <th>2</th>\n",
       "      <td>0.628998</td>\n",
       "      <td>0.348908</td>\n",
       "      <td>0.280612</td>\n",
       "      <td>0.228797</td>\n",
       "      <td>0.117461</td>\n",
       "      <td>0.325088</td>\n",
       "      <td>0.038997</td>\n",
       "      <td>0.247730</td>\n",
       "      <td>0.360795</td>\n",
       "      <td>0.215807</td>\n",
       "      <td>0.075188</td>\n",
       "      <td>0.134123</td>\n",
       "    </tr>\n",
       "    <tr>\n",
       "      <th>3</th>\n",
       "      <td>0.628998</td>\n",
       "      <td>0.348908</td>\n",
       "      <td>0.280612</td>\n",
       "      <td>0.228797</td>\n",
       "      <td>0.117461</td>\n",
       "      <td>0.325088</td>\n",
       "      <td>0.052925</td>\n",
       "      <td>0.325551</td>\n",
       "      <td>0.502841</td>\n",
       "      <td>0.215807</td>\n",
       "      <td>0.075188</td>\n",
       "      <td>0.134123</td>\n",
       "    </tr>\n",
       "    <tr>\n",
       "      <th>4</th>\n",
       "      <td>0.628998</td>\n",
       "      <td>0.348908</td>\n",
       "      <td>0.280612</td>\n",
       "      <td>0.228797</td>\n",
       "      <td>0.117461</td>\n",
       "      <td>0.325088</td>\n",
       "      <td>0.122563</td>\n",
       "      <td>1.000000</td>\n",
       "      <td>0.247159</td>\n",
       "      <td>0.215807</td>\n",
       "      <td>0.075188</td>\n",
       "      <td>0.134123</td>\n",
       "    </tr>\n",
       "    <tr>\n",
       "      <th>...</th>\n",
       "      <td>...</td>\n",
       "      <td>...</td>\n",
       "      <td>...</td>\n",
       "      <td>...</td>\n",
       "      <td>...</td>\n",
       "      <td>...</td>\n",
       "      <td>...</td>\n",
       "      <td>...</td>\n",
       "      <td>...</td>\n",
       "      <td>...</td>\n",
       "      <td>...</td>\n",
       "      <td>...</td>\n",
       "    </tr>\n",
       "    <tr>\n",
       "      <th>411</th>\n",
       "      <td>0.264392</td>\n",
       "      <td>0.208598</td>\n",
       "      <td>0.289337</td>\n",
       "      <td>0.108481</td>\n",
       "      <td>0.409438</td>\n",
       "      <td>0.244876</td>\n",
       "      <td>0.066435</td>\n",
       "      <td>0.138521</td>\n",
       "      <td>0.301705</td>\n",
       "      <td>0.392184</td>\n",
       "      <td>0.000000</td>\n",
       "      <td>0.254369</td>\n",
       "    </tr>\n",
       "    <tr>\n",
       "      <th>412</th>\n",
       "      <td>0.196162</td>\n",
       "      <td>0.346558</td>\n",
       "      <td>0.502194</td>\n",
       "      <td>0.193294</td>\n",
       "      <td>0.507180</td>\n",
       "      <td>0.393993</td>\n",
       "      <td>0.066435</td>\n",
       "      <td>0.138521</td>\n",
       "      <td>0.301705</td>\n",
       "      <td>0.262894</td>\n",
       "      <td>0.000000</td>\n",
       "      <td>0.182024</td>\n",
       "    </tr>\n",
       "    <tr>\n",
       "      <th>413</th>\n",
       "      <td>0.605544</td>\n",
       "      <td>0.221592</td>\n",
       "      <td>0.295816</td>\n",
       "      <td>0.319527</td>\n",
       "      <td>0.129494</td>\n",
       "      <td>0.334629</td>\n",
       "      <td>0.066435</td>\n",
       "      <td>0.138521</td>\n",
       "      <td>0.301705</td>\n",
       "      <td>0.151030</td>\n",
       "      <td>0.007519</td>\n",
       "      <td>0.090163</td>\n",
       "    </tr>\n",
       "    <tr>\n",
       "      <th>414</th>\n",
       "      <td>0.605544</td>\n",
       "      <td>0.128145</td>\n",
       "      <td>0.193724</td>\n",
       "      <td>0.226824</td>\n",
       "      <td>0.129494</td>\n",
       "      <td>0.227915</td>\n",
       "      <td>0.066435</td>\n",
       "      <td>0.138521</td>\n",
       "      <td>0.301705</td>\n",
       "      <td>0.203749</td>\n",
       "      <td>0.007519</td>\n",
       "      <td>0.110896</td>\n",
       "    </tr>\n",
       "    <tr>\n",
       "      <th>415</th>\n",
       "      <td>0.605544</td>\n",
       "      <td>0.310064</td>\n",
       "      <td>0.193724</td>\n",
       "      <td>0.226824</td>\n",
       "      <td>0.129494</td>\n",
       "      <td>0.121201</td>\n",
       "      <td>0.066435</td>\n",
       "      <td>0.138521</td>\n",
       "      <td>0.301705</td>\n",
       "      <td>0.183594</td>\n",
       "      <td>0.000000</td>\n",
       "      <td>0.080997</td>\n",
       "    </tr>\n",
       "  </tbody>\n",
       "</table>\n",
       "<p>416 rows × 12 columns</p>\n",
       "</div>"
      ],
      "text/plain": [
       "           Fy        LB      KL/r  w/t ot d/t      E/fy    Lambda  \\\n",
       "0    0.628998  0.348908  0.280612    0.228797  0.117461  0.325088   \n",
       "1    0.628998  0.348908  0.280612    0.228797  0.117461  0.325088   \n",
       "2    0.628998  0.348908  0.280612    0.228797  0.117461  0.325088   \n",
       "3    0.628998  0.348908  0.280612    0.228797  0.117461  0.325088   \n",
       "4    0.628998  0.348908  0.280612    0.228797  0.117461  0.325088   \n",
       "..        ...       ...       ...         ...       ...       ...   \n",
       "411  0.264392  0.208598  0.289337    0.108481  0.409438  0.244876   \n",
       "412  0.196162  0.346558  0.502194    0.193294  0.507180  0.393993   \n",
       "413  0.605544  0.221592  0.295816    0.319527  0.129494  0.334629   \n",
       "414  0.605544  0.128145  0.193724    0.226824  0.129494  0.227915   \n",
       "415  0.605544  0.310064  0.193724    0.226824  0.129494  0.121201   \n",
       "\n",
       "     Imputed Design State(GB)  Imputed Design State(LB)  \\\n",
       "0                    0.038997                  0.215305   \n",
       "1                    0.136490                  0.299611   \n",
       "2                    0.038997                  0.247730   \n",
       "3                    0.052925                  0.325551   \n",
       "4                    0.122563                  1.000000   \n",
       "..                        ...                       ...   \n",
       "411                  0.066435                  0.138521   \n",
       "412                  0.066435                  0.138521   \n",
       "413                  0.066435                  0.138521   \n",
       "414                  0.066435                  0.138521   \n",
       "415                  0.066435                  0.138521   \n",
       "\n",
       "     Imputed Design State(FP)  Fracture life  Fractural Strain  \\\n",
       "0                    0.346591       0.215807          0.075188   \n",
       "1                    0.005682       0.215807          0.075188   \n",
       "2                    0.360795       0.215807          0.075188   \n",
       "3                    0.502841       0.215807          0.075188   \n",
       "4                    0.247159       0.215807          0.075188   \n",
       "..                        ...            ...               ...   \n",
       "411                  0.301705       0.392184          0.000000   \n",
       "412                  0.301705       0.262894          0.000000   \n",
       "413                  0.301705       0.151030          0.007519   \n",
       "414                  0.301705       0.203749          0.007519   \n",
       "415                  0.301705       0.183594          0.000000   \n",
       "\n",
       "     Energy life(N.m)  \n",
       "0            0.134123  \n",
       "1            0.134123  \n",
       "2            0.134123  \n",
       "3            0.134123  \n",
       "4            0.134123  \n",
       "..                ...  \n",
       "411          0.254369  \n",
       "412          0.182024  \n",
       "413          0.090163  \n",
       "414          0.110896  \n",
       "415          0.080997  \n",
       "\n",
       "[416 rows x 12 columns]"
      ]
     },
     "execution_count": 32,
     "metadata": {},
     "output_type": "execute_result"
    }
   ],
   "source": [
    "df2"
   ]
  },
  {
   "cell_type": "markdown",
   "metadata": {},
   "source": [
    "#### Plotting the Feature Correlation Heatmap"
   ]
  },
  {
   "cell_type": "code",
   "execution_count": 33,
   "metadata": {},
   "outputs": [
    {
     "data": {
      "text/plain": [
       "Text(0.5, 1.0, 'Seaborn')"
      ]
     },
     "execution_count": 33,
     "metadata": {},
     "output_type": "execute_result"
    },
    {
     "data": {
      "image/png": "[encoded data removed]",
      "text/plain": [
       "<Figure size 648x648 with 2 Axes>"
      ]
     },
     "metadata": {
      "needs_background": "light"
     },
     "output_type": "display_data"
    }
   ],
   "source": [
    "plt.figure(figsize=(9,9))\n",
    "sns.heatmap(df2.corr(), annot=True, cmap=\"coolwarm\").set_title('Seaborn')"
   ]
  },
  {
   "cell_type": "markdown",
   "metadata": {},
   "source": [
    "#### Plotting Feature Importance Graph based on F scores"
   ]
  },
  {
   "cell_type": "code",
   "execution_count": 31,
   "metadata": {},
   "outputs": [
    {
     "name": "stdout",
     "output_type": "stream",
     "text": [
      "RMSE: 0.008040\n"
     ]
    }
   ],
   "source": [
    "X=df2[['w/t ot d/t','E/fy','Lambda']]\n",
    "y=df2['Fracture life']\n",
    "X_train, X_test, y_train, y_test = train_test_split(X, y, test_size=0.3, random_state=123)\n",
    "xg_reg = XGBRegressor()\n",
    "xg_reg.fit(X_train,y_train)\n",
    "preds = xg_reg.predict(X_test)\n",
    "rmse = np.sqrt(mean_squared_error(y_test, preds))\n",
    "print(\"RMSE: %f\" % (rmse))"
   ]
  },
  {
   "cell_type": "code",
   "execution_count": 32,
   "metadata": {},
   "outputs": [
    {
     "data": {
      "image/png": "[encoded data removed]",
      "text/plain": [
       "<Figure size 432x288 with 1 Axes>"
      ]
     },
     "metadata": {
      "needs_background": "light"
     },
     "output_type": "display_data"
    }
   ],
   "source": [
    "plot_importance(xg_reg)\n",
    "plt.show()"
   ]
  },
  {
   "cell_type": "code",
   "execution_count": 35,
   "metadata": {},
   "outputs": [
    {
     "name": "stdout",
     "output_type": "stream",
     "text": [
      "RMSE: 0.013006\n"
     ]
    }
   ],
   "source": [
    "y=df2['Energy life(N.m)']\n",
    "X_train, X_test, y_train, y_test = train_test_split(X, y, test_size=0.3, random_state=123)\n",
    "xg_reg = XGBRegressor()\n",
    "xg_reg.fit(X_train,y_train)\n",
    "preds = xg_reg.predict(X_test)\n",
    "rmse = np.sqrt(mean_squared_error(y_test, preds))\n",
    "print(\"RMSE: %f\" % (rmse))"
   ]
  },
  {
   "cell_type": "code",
   "execution_count": 36,
   "metadata": {},
   "outputs": [
    {
     "data": {
      "image/png": "[encoded data removed]",
      "text/plain": [
       "<Figure size 432x288 with 1 Axes>"
      ]
     },
     "metadata": {
      "needs_background": "light"
     },
     "output_type": "display_data"
    }
   ],
   "source": [
    "plot_importance(xg_reg)\n",
    "plt.show()"
   ]
  },
  {
   "cell_type": "code",
   "execution_count": 37,
   "metadata": {},
   "outputs": [
    {
     "name": "stdout",
     "output_type": "stream",
     "text": [
      "RMSE: 0.091283\n"
     ]
    }
   ],
   "source": [
    "X=df2[['w/t ot d/t','E/fy','Lambda']]\n",
    "y=df2['Imputed Design State(GB)']\n",
    "X_train, X_test, y_train, y_test = train_test_split(X, y, test_size=0.3, random_state=123)\n",
    "xg_reg = XGBRegressor()\n",
    "xg_reg.fit(X_train,y_train)\n",
    "preds = xg_reg.predict(X_test)\n",
    "rmse = np.sqrt(mean_squared_error(y_test, preds))\n",
    "print(\"RMSE: %f\" % (rmse))"
   ]
  },
  {
   "cell_type": "code",
   "execution_count": 38,
   "metadata": {},
   "outputs": [
    {
     "data": {
      "image/png": "[encoded data removed]",
      "text/plain": [
       "<Figure size 432x288 with 1 Axes>"
      ]
     },
     "metadata": {
      "needs_background": "light"
     },
     "output_type": "display_data"
    }
   ],
   "source": [
    "plot_importance(xg_reg)\n",
    "plt.show()"
   ]
  },
  {
   "cell_type": "code",
   "execution_count": 42,
   "metadata": {},
   "outputs": [
    {
     "name": "stdout",
     "output_type": "stream",
     "text": [
      "RMSE: 0.071234\n"
     ]
    }
   ],
   "source": [
    "X=df2[['w/t ot d/t','E/fy','Lambda']]\n",
    "y=df2['Imputed Design State(LB)']\n",
    "X_train, X_test, y_train, y_test = train_test_split(X, y, test_size=0.3, random_state=123)\n",
    "xg_reg = XGBRegressor()\n",
    "xg_reg.fit(X_train,y_train)\n",
    "preds = xg_reg.predict(X_test)\n",
    "rmse = np.sqrt(mean_squared_error(y_test, preds))\n",
    "print(\"RMSE: %f\" % (rmse))"
   ]
  },
  {
   "cell_type": "code",
   "execution_count": 43,
   "metadata": {},
   "outputs": [
    {
     "data": {
      "image/png": "[encoded data removed]",
      "text/plain": [
       "<Figure size 432x288 with 1 Axes>"
      ]
     },
     "metadata": {
      "needs_background": "light"
     },
     "output_type": "display_data"
    }
   ],
   "source": [
    "plot_importance(xg_reg)\n",
    "plt.show()"
   ]
  },
  {
   "cell_type": "code",
   "execution_count": 44,
   "metadata": {},
   "outputs": [
    {
     "name": "stdout",
     "output_type": "stream",
     "text": [
      "RMSE: 0.132890\n"
     ]
    }
   ],
   "source": [
    "X=df2[['w/t ot d/t','E/fy','Lambda']]\n",
    "y=df2['Fractural Strain']\n",
    "X_train, X_test, y_train, y_test = train_test_split(X, y, test_size=0.3, random_state=123)\n",
    "xg_reg = XGBRegressor()\n",
    "xg_reg.fit(X_train,y_train)\n",
    "preds = xg_reg.predict(X_test)\n",
    "rmse = np.sqrt(mean_squared_error(y_test, preds))\n",
    "print(\"RMSE: %f\" % (rmse))"
   ]
  },
  {
   "cell_type": "code",
   "execution_count": 45,
   "metadata": {},
   "outputs": [
    {
     "data": {
      "image/png": "[encoded data removed]",
      "text/plain": [
       "<Figure size 432x288 with 1 Axes>"
      ]
     },
     "metadata": {
      "needs_background": "light"
     },
     "output_type": "display_data"
    }
   ],
   "source": [
    "plot_importance(xg_reg)\n",
    "plt.show()"
   ]
  },
  {
   "cell_type": "markdown",
   "metadata": {},
   "source": [
    "#### Feature Selection using Boruta"
   ]
  },
  {
   "cell_type": "code",
   "execution_count": 68,
   "metadata": {},
   "outputs": [],
   "source": [
    "X=df2[['Fy','KL/r','w/t ot d/t','E/fy','Lambda']]\n",
    "y=df2['Energy life(N.m)']\n",
    "def greedy_elim():\n",
    "\n",
    "    # do feature selection using boruta\n",
    "    model = RandomForestRegressor(n_jobs= 4,oob_score= True)\n",
    "    #model = LinearRegression()\n",
    "    # define Boruta feature selection method\n",
    "   # feat_selector = BorutaPy(rf, n_estimators='auto', verbose=2, random_state=1)\n",
    "\n",
    "    # find all relevant features - 5 features should be selected\n",
    "    #feat_selector.fit(X, y)\n",
    "    # 150 features seems to be the best at the moment. Why this is is unclear.\n",
    "    feat_selector = BorutaPy(estimator=model, n_estimators='auto', verbose=2, random_state=1)\n",
    "\n",
    "    # find all relevant features\n",
    "    feat_selector.fit_transform(X.values, y.values)\n",
    "\n",
    "    # check selected features\n",
    "    features_bool = np.array(feat_selector.support_)\n",
    "    print (features_bool)\n",
    "    features = np.array(X.columns)\n",
    "    print (features)\n",
    "    result = features[features_bool]\n",
    "    print(result)\n",
    "\n",
    "    # check ranking of features\n",
    "    features_rank = feat_selector.ranking_\n",
    "    #print(features_rank)\n",
    "    rank = features_rank[features_bool]\n",
    "    #print(rank)\n",
    "   \n",
    "    \n",
    "\n",
    "    return result"
   ]
  },
  {
   "cell_type": "code",
   "execution_count": 69,
   "metadata": {
    "scrolled": true
   },
   "outputs": [
    {
     "name": "stdout",
     "output_type": "stream",
     "text": [
      "Iteration: \t1 / 100\n",
      "Confirmed: \t0\n",
      "Tentative: \t5\n",
      "Rejected: \t0\n",
      "Iteration: \t2 / 100\n",
      "Confirmed: \t0\n",
      "Tentative: \t5\n",
      "Rejected: \t0\n",
      "Iteration: \t3 / 100\n",
      "Confirmed: \t0\n",
      "Tentative: \t5\n",
      "Rejected: \t0\n",
      "Iteration: \t4 / 100\n",
      "Confirmed: \t0\n",
      "Tentative: \t5\n",
      "Rejected: \t0\n",
      "Iteration: \t5 / 100\n",
      "Confirmed: \t0\n",
      "Tentative: \t5\n",
      "Rejected: \t0\n",
      "Iteration: \t6 / 100\n",
      "Confirmed: \t0\n",
      "Tentative: \t5\n",
      "Rejected: \t0\n",
      "Iteration: \t7 / 100\n",
      "Confirmed: \t0\n",
      "Tentative: \t5\n",
      "Rejected: \t0\n",
      "Iteration: \t8 / 100\n",
      "Confirmed: \t3\n",
      "Tentative: \t2\n",
      "Rejected: \t0\n",
      "Iteration: \t9 / 100\n",
      "Confirmed: \t3\n",
      "Tentative: \t2\n",
      "Rejected: \t0\n",
      "Iteration: \t10 / 100\n",
      "Confirmed: \t3\n",
      "Tentative: \t2\n",
      "Rejected: \t0\n",
      "Iteration: \t11 / 100\n",
      "Confirmed: \t3\n",
      "Tentative: \t2\n",
      "Rejected: \t0\n",
      "Iteration: \t12 / 100\n",
      "Confirmed: \t3\n",
      "Tentative: \t2\n",
      "Rejected: \t0\n",
      "Iteration: \t13 / 100\n",
      "Confirmed: \t3\n",
      "Tentative: \t2\n",
      "Rejected: \t0\n",
      "Iteration: \t14 / 100\n",
      "Confirmed: \t3\n",
      "Tentative: \t2\n",
      "Rejected: \t0\n",
      "Iteration: \t15 / 100\n",
      "Confirmed: \t3\n",
      "Tentative: \t2\n",
      "Rejected: \t0\n",
      "Iteration: \t16 / 100\n",
      "Confirmed: \t3\n",
      "Tentative: \t2\n",
      "Rejected: \t0\n",
      "Iteration: \t17 / 100\n",
      "Confirmed: \t3\n",
      "Tentative: \t2\n",
      "Rejected: \t0\n",
      "Iteration: \t18 / 100\n",
      "Confirmed: \t3\n",
      "Tentative: \t2\n",
      "Rejected: \t0\n",
      "Iteration: \t19 / 100\n",
      "Confirmed: \t3\n",
      "Tentative: \t2\n",
      "Rejected: \t0\n",
      "Iteration: \t20 / 100\n",
      "Confirmed: \t3\n",
      "Tentative: \t2\n",
      "Rejected: \t0\n",
      "Iteration: \t21 / 100\n",
      "Confirmed: \t3\n",
      "Tentative: \t2\n",
      "Rejected: \t0\n",
      "Iteration: \t22 / 100\n",
      "Confirmed: \t3\n",
      "Tentative: \t2\n",
      "Rejected: \t0\n",
      "Iteration: \t23 / 100\n",
      "Confirmed: \t3\n",
      "Tentative: \t2\n",
      "Rejected: \t0\n",
      "Iteration: \t24 / 100\n",
      "Confirmed: \t3\n",
      "Tentative: \t2\n",
      "Rejected: \t0\n",
      "Iteration: \t25 / 100\n",
      "Confirmed: \t3\n",
      "Tentative: \t2\n",
      "Rejected: \t0\n",
      "Iteration: \t26 / 100\n",
      "Confirmed: \t3\n",
      "Tentative: \t2\n",
      "Rejected: \t0\n",
      "Iteration: \t27 / 100\n",
      "Confirmed: \t3\n",
      "Tentative: \t2\n",
      "Rejected: \t0\n",
      "Iteration: \t28 / 100\n",
      "Confirmed: \t3\n",
      "Tentative: \t2\n",
      "Rejected: \t0\n",
      "Iteration: \t29 / 100\n",
      "Confirmed: \t3\n",
      "Tentative: \t2\n",
      "Rejected: \t0\n",
      "Iteration: \t30 / 100\n",
      "Confirmed: \t3\n",
      "Tentative: \t2\n",
      "Rejected: \t0\n",
      "Iteration: \t31 / 100\n",
      "Confirmed: \t3\n",
      "Tentative: \t2\n",
      "Rejected: \t0\n",
      "Iteration: \t32 / 100\n",
      "Confirmed: \t3\n",
      "Tentative: \t2\n",
      "Rejected: \t0\n",
      "Iteration: \t33 / 100\n",
      "Confirmed: \t3\n",
      "Tentative: \t2\n",
      "Rejected: \t0\n",
      "Iteration: \t34 / 100\n",
      "Confirmed: \t3\n",
      "Tentative: \t2\n",
      "Rejected: \t0\n",
      "Iteration: \t35 / 100\n",
      "Confirmed: \t3\n",
      "Tentative: \t2\n",
      "Rejected: \t0\n",
      "Iteration: \t36 / 100\n",
      "Confirmed: \t3\n",
      "Tentative: \t2\n",
      "Rejected: \t0\n",
      "Iteration: \t37 / 100\n",
      "Confirmed: \t3\n",
      "Tentative: \t2\n",
      "Rejected: \t0\n",
      "Iteration: \t38 / 100\n",
      "Confirmed: \t3\n",
      "Tentative: \t2\n",
      "Rejected: \t0\n",
      "Iteration: \t39 / 100\n",
      "Confirmed: \t3\n",
      "Tentative: \t2\n",
      "Rejected: \t0\n",
      "Iteration: \t40 / 100\n",
      "Confirmed: \t3\n",
      "Tentative: \t2\n",
      "Rejected: \t0\n",
      "Iteration: \t41 / 100\n",
      "Confirmed: \t3\n",
      "Tentative: \t2\n",
      "Rejected: \t0\n",
      "Iteration: \t42 / 100\n",
      "Confirmed: \t3\n",
      "Tentative: \t2\n",
      "Rejected: \t0\n",
      "Iteration: \t43 / 100\n",
      "Confirmed: \t3\n",
      "Tentative: \t2\n",
      "Rejected: \t0\n",
      "Iteration: \t44 / 100\n",
      "Confirmed: \t3\n",
      "Tentative: \t2\n",
      "Rejected: \t0\n",
      "Iteration: \t45 / 100\n",
      "Confirmed: \t3\n",
      "Tentative: \t2\n",
      "Rejected: \t0\n",
      "Iteration: \t46 / 100\n",
      "Confirmed: \t3\n",
      "Tentative: \t2\n",
      "Rejected: \t0\n",
      "Iteration: \t47 / 100\n",
      "Confirmed: \t3\n",
      "Tentative: \t2\n",
      "Rejected: \t0\n",
      "Iteration: \t48 / 100\n",
      "Confirmed: \t3\n",
      "Tentative: \t2\n",
      "Rejected: \t0\n",
      "Iteration: \t49 / 100\n",
      "Confirmed: \t3\n",
      "Tentative: \t2\n",
      "Rejected: \t0\n",
      "Iteration: \t50 / 100\n",
      "Confirmed: \t3\n",
      "Tentative: \t2\n",
      "Rejected: \t0\n",
      "Iteration: \t51 / 100\n",
      "Confirmed: \t3\n",
      "Tentative: \t2\n",
      "Rejected: \t0\n",
      "Iteration: \t52 / 100\n",
      "Confirmed: \t3\n",
      "Tentative: \t2\n",
      "Rejected: \t0\n",
      "Iteration: \t53 / 100\n",
      "Confirmed: \t3\n",
      "Tentative: \t2\n",
      "Rejected: \t0\n",
      "Iteration: \t54 / 100\n",
      "Confirmed: \t3\n",
      "Tentative: \t2\n",
      "Rejected: \t0\n",
      "Iteration: \t55 / 100\n",
      "Confirmed: \t3\n",
      "Tentative: \t2\n",
      "Rejected: \t0\n",
      "Iteration: \t56 / 100\n",
      "Confirmed: \t3\n",
      "Tentative: \t2\n",
      "Rejected: \t0\n",
      "Iteration: \t57 / 100\n",
      "Confirmed: \t3\n",
      "Tentative: \t2\n",
      "Rejected: \t0\n",
      "Iteration: \t58 / 100\n",
      "Confirmed: \t3\n",
      "Tentative: \t2\n",
      "Rejected: \t0\n",
      "Iteration: \t59 / 100\n",
      "Confirmed: \t3\n",
      "Tentative: \t2\n",
      "Rejected: \t0\n",
      "Iteration: \t60 / 100\n",
      "Confirmed: \t3\n",
      "Tentative: \t2\n",
      "Rejected: \t0\n",
      "Iteration: \t61 / 100\n",
      "Confirmed: \t3\n",
      "Tentative: \t2\n",
      "Rejected: \t0\n",
      "Iteration: \t62 / 100\n",
      "Confirmed: \t3\n",
      "Tentative: \t2\n",
      "Rejected: \t0\n",
      "Iteration: \t63 / 100\n",
      "Confirmed: \t3\n",
      "Tentative: \t2\n",
      "Rejected: \t0\n",
      "Iteration: \t64 / 100\n",
      "Confirmed: \t3\n",
      "Tentative: \t2\n",
      "Rejected: \t0\n",
      "Iteration: \t65 / 100\n",
      "Confirmed: \t3\n",
      "Tentative: \t2\n",
      "Rejected: \t0\n",
      "Iteration: \t66 / 100\n",
      "Confirmed: \t3\n",
      "Tentative: \t2\n",
      "Rejected: \t0\n",
      "Iteration: \t67 / 100\n",
      "Confirmed: \t3\n",
      "Tentative: \t2\n",
      "Rejected: \t0\n",
      "Iteration: \t68 / 100\n",
      "Confirmed: \t3\n",
      "Tentative: \t2\n",
      "Rejected: \t0\n",
      "Iteration: \t69 / 100\n",
      "Confirmed: \t3\n",
      "Tentative: \t2\n",
      "Rejected: \t0\n",
      "Iteration: \t70 / 100\n",
      "Confirmed: \t3\n",
      "Tentative: \t2\n",
      "Rejected: \t0\n",
      "Iteration: \t71 / 100\n",
      "Confirmed: \t3\n",
      "Tentative: \t2\n",
      "Rejected: \t0\n",
      "Iteration: \t72 / 100\n",
      "Confirmed: \t3\n",
      "Tentative: \t2\n",
      "Rejected: \t0\n",
      "Iteration: \t73 / 100\n",
      "Confirmed: \t3\n",
      "Tentative: \t2\n",
      "Rejected: \t0\n",
      "Iteration: \t74 / 100\n",
      "Confirmed: \t3\n",
      "Tentative: \t2\n",
      "Rejected: \t0\n",
      "Iteration: \t75 / 100\n",
      "Confirmed: \t3\n",
      "Tentative: \t2\n",
      "Rejected: \t0\n",
      "Iteration: \t76 / 100\n",
      "Confirmed: \t3\n",
      "Tentative: \t2\n",
      "Rejected: \t0\n",
      "Iteration: \t77 / 100\n",
      "Confirmed: \t3\n",
      "Tentative: \t2\n",
      "Rejected: \t0\n",
      "Iteration: \t78 / 100\n",
      "Confirmed: \t3\n",
      "Tentative: \t2\n",
      "Rejected: \t0\n",
      "Iteration: \t79 / 100\n",
      "Confirmed: \t3\n",
      "Tentative: \t2\n",
      "Rejected: \t0\n",
      "Iteration: \t80 / 100\n",
      "Confirmed: \t3\n",
      "Tentative: \t2\n",
      "Rejected: \t0\n",
      "Iteration: \t81 / 100\n",
      "Confirmed: \t3\n",
      "Tentative: \t2\n",
      "Rejected: \t0\n",
      "Iteration: \t82 / 100\n",
      "Confirmed: \t3\n",
      "Tentative: \t2\n",
      "Rejected: \t0\n",
      "Iteration: \t83 / 100\n",
      "Confirmed: \t3\n",
      "Tentative: \t2\n",
      "Rejected: \t0\n",
      "Iteration: \t84 / 100\n",
      "Confirmed: \t3\n",
      "Tentative: \t2\n",
      "Rejected: \t0\n",
      "Iteration: \t85 / 100\n",
      "Confirmed: \t3\n",
      "Tentative: \t2\n",
      "Rejected: \t0\n",
      "Iteration: \t86 / 100\n",
      "Confirmed: \t3\n",
      "Tentative: \t2\n",
      "Rejected: \t0\n",
      "Iteration: \t87 / 100\n",
      "Confirmed: \t3\n",
      "Tentative: \t2\n",
      "Rejected: \t0\n",
      "Iteration: \t88 / 100\n",
      "Confirmed: \t3\n",
      "Tentative: \t2\n",
      "Rejected: \t0\n",
      "Iteration: \t89 / 100\n",
      "Confirmed: \t3\n",
      "Tentative: \t2\n",
      "Rejected: \t0\n",
      "Iteration: \t90 / 100\n",
      "Confirmed: \t3\n",
      "Tentative: \t2\n",
      "Rejected: \t0\n",
      "Iteration: \t91 / 100\n",
      "Confirmed: \t3\n",
      "Tentative: \t2\n",
      "Rejected: \t0\n",
      "Iteration: \t92 / 100\n",
      "Confirmed: \t3\n",
      "Tentative: \t2\n",
      "Rejected: \t0\n",
      "Iteration: \t93 / 100\n",
      "Confirmed: \t3\n",
      "Tentative: \t2\n",
      "Rejected: \t0\n",
      "Iteration: \t94 / 100\n",
      "Confirmed: \t3\n",
      "Tentative: \t2\n",
      "Rejected: \t0\n",
      "Iteration: \t95 / 100\n",
      "Confirmed: \t3\n",
      "Tentative: \t2\n",
      "Rejected: \t0\n",
      "Iteration: \t96 / 100\n",
      "Confirmed: \t3\n",
      "Tentative: \t2\n",
      "Rejected: \t0\n",
      "Iteration: \t97 / 100\n",
      "Confirmed: \t3\n",
      "Tentative: \t2\n",
      "Rejected: \t0\n",
      "Iteration: \t98 / 100\n",
      "Confirmed: \t3\n",
      "Tentative: \t2\n",
      "Rejected: \t0\n",
      "Iteration: \t99 / 100\n",
      "Confirmed: \t3\n",
      "Tentative: \t2\n",
      "Rejected: \t0\n",
      "\n",
      "\n",
      "BorutaPy finished running.\n",
      "\n",
      "Iteration: \t100 / 100\n",
      "Confirmed: \t3\n",
      "Tentative: \t0\n",
      "Rejected: \t0\n",
      "[False  True  True False  True]\n",
      "['Fy' 'KL/r' 'w/t ot d/t' 'E/fy' 'Lambda']\n",
      "['KL/r' 'w/t ot d/t' 'Lambda']\n"
     ]
    },
    {
     "data": {
      "text/plain": [
       "array(['KL/r', 'w/t ot d/t', 'Lambda'], dtype=object)"
      ]
     },
     "execution_count": 69,
     "metadata": {},
     "output_type": "execute_result"
    }
   ],
   "source": [
    "greedy_elim()"
   ]
  },
  {
   "cell_type": "markdown",
   "metadata": {},
   "source": [
    "####  Recursive Feature Elimination"
   ]
  },
  {
   "cell_type": "markdown",
   "metadata": {},
   "source": [
    "#### Energy-Life - [w/t and Lambda]"
   ]
  },
  {
   "cell_type": "code",
   "execution_count": 48,
   "metadata": {
    "scrolled": true
   },
   "outputs": [
    {
     "name": "stdout",
     "output_type": "stream",
     "text": [
      "Feature Selection Results for Energy Life:\n",
      "Parameter Name: Fy ==> Selected: False, Rank: 3.000\n",
      "Parameter Name: KL/r ==> Selected: False, Rank: 2.000\n",
      "Parameter Name: w/t ot d/t ==> Selected: True, Rank: 1.000\n",
      "Parameter Name: E/fy ==> Selected: False, Rank: 4.000\n",
      "Parameter Name: Lambda ==> Selected: True, Rank: 1.000\n"
     ]
    }
   ],
   "source": [
    "parameter = ['Fy','KL/r','w/t ot d/t','E/fy','Lambda']\n",
    "X=df2[['Fy','KL/r','w/t ot d/t','E/fy','Lambda']]\n",
    "y=df2['Energy life(N.m)']\n",
    "rfe = RFE(estimator=DecisionTreeRegressor(), n_features_to_select=2)\n",
    "# fit RFE\n",
    "rfe.fit(X, y)\n",
    "# summarize all features\n",
    "print(\"Feature Selection Results for Energy Life:\")\n",
    "for i in range(X.shape[1]):\n",
    "\tprint('Parameter Name: %s ==> Selected: %s, Rank: %.3f' % (parameter[i], rfe.support_[i], rfe.ranking_[i]))"
   ]
  },
  {
   "cell_type": "markdown",
   "metadata": {},
   "source": [
    "#### Fracture Life - [w/t and Lambda]"
   ]
  },
  {
   "cell_type": "code",
   "execution_count": 49,
   "metadata": {},
   "outputs": [
    {
     "name": "stdout",
     "output_type": "stream",
     "text": [
      "Feature Selection Results for Fracture Life:\n",
      "Parameter Name: Fy ==> Selected: False, Rank: 3.000\n",
      "Parameter Name: KL/r ==> Selected: False, Rank: 2.000\n",
      "Parameter Name: w/t ot d/t ==> Selected: True, Rank: 1.000\n",
      "Parameter Name: E/fy ==> Selected: False, Rank: 4.000\n",
      "Parameter Name: Lambda ==> Selected: True, Rank: 1.000\n"
     ]
    }
   ],
   "source": [
    "parameter = ['Fy','KL/r','w/t ot d/t','E/fy','Lambda']\n",
    "X=df2[['Fy','KL/r','w/t ot d/t','E/fy','Lambda']]\n",
    "y=df2['Fracture life']\n",
    "rfe = RFE(estimator=DecisionTreeRegressor(), n_features_to_select=2)\n",
    "# fit RFE\n",
    "rfe.fit(X, y)\n",
    "# summarize all features\n",
    "print(\"Feature Selection Results for Fracture Life:\")\n",
    "for i in range(X.shape[1]):\n",
    "\tprint('Parameter Name: %s ==> Selected: %s, Rank: %.3f' % (parameter[i], rfe.support_[i], rfe.ranking_[i]))"
   ]
  },
  {
   "cell_type": "markdown",
   "metadata": {},
   "source": [
    "#### Imputed Design State (Global Buckling) - [Fy and Lambda]"
   ]
  },
  {
   "cell_type": "code",
   "execution_count": 50,
   "metadata": {},
   "outputs": [
    {
     "name": "stdout",
     "output_type": "stream",
     "text": [
      "Feature Selection Results for Fracture Life:\n",
      "Parameter Name: Fy ==> Selected: True, Rank: 1.000\n",
      "Parameter Name: KL/r ==> Selected: False, Rank: 4.000\n",
      "Parameter Name: w/t ot d/t ==> Selected: False, Rank: 2.000\n",
      "Parameter Name: E/fy ==> Selected: False, Rank: 3.000\n",
      "Parameter Name: Lambda ==> Selected: True, Rank: 1.000\n"
     ]
    }
   ],
   "source": [
    "parameter = ['Fy','KL/r','w/t ot d/t','E/fy','Lambda']\n",
    "X=df2[['Fy','KL/r','w/t ot d/t','E/fy','Lambda']]\n",
    "y=df2['Imputed Design State(GB)']\n",
    "rfe = RFE(estimator=DecisionTreeRegressor(), n_features_to_select=2)\n",
    "# fit RFE\n",
    "rfe.fit(X, y)\n",
    "# summarize all features\n",
    "print(\"Feature Selection Results for Fracture Life:\")\n",
    "for i in range(X.shape[1]):\n",
    "\tprint('Parameter Name: %s ==> Selected: %s, Rank: %.3f' % (parameter[i], rfe.support_[i], rfe.ranking_[i]))"
   ]
  },
  {
   "cell_type": "markdown",
   "metadata": {},
   "source": [
    "#### Imputed Design State (Local Buckling) - [Fy and Lambda]"
   ]
  },
  {
   "cell_type": "code",
   "execution_count": 51,
   "metadata": {},
   "outputs": [
    {
     "name": "stdout",
     "output_type": "stream",
     "text": [
      "Feature Selection Results for Fracture Life:\n",
      "Parameter Name: Fy ==> Selected: False, Rank: 3.000\n",
      "Parameter Name: KL/r ==> Selected: False, Rank: 4.000\n",
      "Parameter Name: w/t ot d/t ==> Selected: True, Rank: 1.000\n",
      "Parameter Name: E/fy ==> Selected: False, Rank: 2.000\n",
      "Parameter Name: Lambda ==> Selected: True, Rank: 1.000\n"
     ]
    }
   ],
   "source": [
    "parameter = ['Fy','KL/r','w/t ot d/t','E/fy','Lambda']\n",
    "X=df2[['Fy','KL/r','w/t ot d/t','E/fy','Lambda']]\n",
    "y=df2['Imputed Design State(LB)']\n",
    "rfe = RFE(estimator=DecisionTreeRegressor(), n_features_to_select=2)\n",
    "# fit RFE\n",
    "rfe.fit(X, y)\n",
    "# summarize all features\n",
    "print(\"Feature Selection Results for Fracture Life:\")\n",
    "for i in range(X.shape[1]):\n",
    "\tprint('Parameter Name: %s ==> Selected: %s, Rank: %.3f' % (parameter[i], rfe.support_[i], rfe.ranking_[i]))"
   ]
  },
  {
   "cell_type": "markdown",
   "metadata": {},
   "source": [
    "##### Fractural Strain [ w/t and KL/r ]"
   ]
  },
  {
   "cell_type": "code",
   "execution_count": 52,
   "metadata": {},
   "outputs": [
    {
     "name": "stdout",
     "output_type": "stream",
     "text": [
      "Feature Selection Results for Fracture Life:\n",
      "Parameter Name: Fy ==> Selected: False, Rank: 4.000\n",
      "Parameter Name: KL/r ==> Selected: True, Rank: 1.000\n",
      "Parameter Name: w/t ot d/t ==> Selected: True, Rank: 1.000\n",
      "Parameter Name: E/fy ==> Selected: False, Rank: 2.000\n",
      "Parameter Name: Lambda ==> Selected: False, Rank: 3.000\n"
     ]
    }
   ],
   "source": [
    "parameter = ['Fy','KL/r','w/t ot d/t','E/fy','Lambda']\n",
    "X=df2[['Fy','KL/r','w/t ot d/t','E/fy','Lambda']]\n",
    "y=df2['Fractural Strain']\n",
    "rfe = RFE(estimator=DecisionTreeRegressor(), n_features_to_select=2)\n",
    "# fit RFE\n",
    "rfe.fit(X, y)\n",
    "# summarize all features\n",
    "print(\"Feature Selection Results for Fracture Life:\")\n",
    "for i in range(X.shape[1]):\n",
    "\tprint('Parameter Name: %s ==> Selected: %s, Rank: %.3f' % (parameter[i], rfe.support_[i], rfe.ranking_[i]))"
   ]
  },
  {
   "cell_type": "markdown",
   "metadata": {},
   "source": [
    "#### Outlier Detection"
   ]
  },
  {
   "cell_type": "code",
   "execution_count": 47,
   "metadata": {},
   "outputs": [
    {
     "data": {
      "text/plain": [
       "<matplotlib.axes._subplots.AxesSubplot at 0x2061743de50>"
      ]
     },
     "execution_count": 47,
     "metadata": {},
     "output_type": "execute_result"
    },
    {
     "data": {
      "image/png": "[encoded data removed]",
      "text/plain": [
       "<Figure size 432x288 with 1 Axes>"
      ]
     },
     "metadata": {
      "needs_background": "light"
     },
     "output_type": "display_data"
    }
   ],
   "source": [
    "df2.boxplot('Energy life(N.m)')"
   ]
  },
  {
   "cell_type": "code",
   "execution_count": 46,
   "metadata": {},
   "outputs": [
    {
     "data": {
      "text/plain": [
       "<matplotlib.axes._subplots.AxesSubplot at 0x206173f04f0>"
      ]
     },
     "execution_count": 46,
     "metadata": {},
     "output_type": "execute_result"
    },
    {
     "data": {
      "image/png": "[encoded data removed]",
      "text/plain": [
       "<Figure size 432x288 with 1 Axes>"
      ]
     },
     "metadata": {
      "needs_background": "light"
     },
     "output_type": "display_data"
    }
   ],
   "source": [
    "df2.boxplot('Fracture life')"
   ]
  },
  {
   "cell_type": "code",
   "execution_count": 41,
   "metadata": {},
   "outputs": [
    {
     "data": {
      "text/plain": [
       "<matplotlib.axes._subplots.AxesSubplot at 0x20616ded3d0>"
      ]
     },
     "execution_count": 41,
     "metadata": {},
     "output_type": "execute_result"
    },
    {
     "data": {
      "image/png": "[encoded data removed]",
      "text/plain": [
       "<Figure size 432x288 with 1 Axes>"
      ]
     },
     "metadata": {
      "needs_background": "light"
     },
     "output_type": "display_data"
    }
   ],
   "source": [
    "df2.boxplot('Fractural Strain')"
   ]
  },
  {
   "cell_type": "code",
   "execution_count": 42,
   "metadata": {},
   "outputs": [
    {
     "data": {
      "text/plain": [
       "<matplotlib.axes._subplots.AxesSubplot at 0x20617269160>"
      ]
     },
     "execution_count": 42,
     "metadata": {},
     "output_type": "execute_result"
    },
    {
     "data": {
      "image/png": "[encoded data removed]",
      "text/plain": [
       "<Figure size 432x288 with 1 Axes>"
      ]
     },
     "metadata": {
      "needs_background": "light"
     },
     "output_type": "display_data"
    }
   ],
   "source": [
    "df2.boxplot('Imputed Design State(GB)')"
   ]
  },
  {
   "cell_type": "code",
   "execution_count": 57,
   "metadata": {},
   "outputs": [
    {
     "data": {
      "text/plain": [
       "<matplotlib.axes._subplots.AxesSubplot at 0x2061baee760>"
      ]
     },
     "execution_count": 57,
     "metadata": {},
     "output_type": "execute_result"
    },
    {
     "data": {
      "image/png": "[encoded data removed]",
      "text/plain": [
       "<Figure size 432x288 with 1 Axes>"
      ]
     },
     "metadata": {
      "needs_background": "light"
     },
     "output_type": "display_data"
    }
   ],
   "source": [
    "df2.boxplot('Imputed Design State(LB)')"
   ]
  },
  {
   "cell_type": "markdown",
   "metadata": {},
   "source": [
    "#### Predictions"
   ]
  },
  {
   "cell_type": "markdown",
   "metadata": {},
   "source": [
    "#### Linear Regression Model"
   ]
  },
  {
   "cell_type": "code",
   "execution_count": 62,
   "metadata": {},
   "outputs": [
    {
     "name": "stdout",
     "output_type": "stream",
     "text": [
      "Pearson Correlation Coeff: 0.7574288899591604\n",
      "MAE: 0.08058991181704835\n",
      "RMSE: 0.11137260029427314\n"
     ]
    },
    {
     "data": {
      "image/png": "[encoded data removed]",
      "text/plain": [
       "<Figure size 432x288 with 1 Axes>"
      ]
     },
     "metadata": {
      "needs_background": "light"
     },
     "output_type": "display_data"
    }
   ],
   "source": [
    "X=df2[['KL/r','w/t ot d/t','Lambda']]\n",
    "y=df2['Energy life(N.m)']\n",
    "model = LinearRegression()\n",
    "X_train, X_test, y_train, y_test = train_test_split(X, y, test_size=0.3, random_state=123)\n",
    "model.fit(X_train, y_train)\n",
    "predictions = model.predict(X_test)\n",
    "result = model.score(X_test, y_test)\n",
    "print('Pearson Correlation Coeff:', stats.pearsonr(y_test,predictions)[0])\n",
    "print('MAE:', metrics.mean_absolute_error(y_test, predictions))\n",
    "print('RMSE:', np.sqrt(metrics.mean_squared_error(y_test, predictions)))\n",
    "#Printing the model\n",
    "plt.scatter(y_test,predictions)\n",
    "plt.xlabel('Y Test')\n",
    "plt.ylabel('Predicted Y')\n",
    "plt.show()"
   ]
  },
  {
   "cell_type": "code",
   "execution_count": 54,
   "metadata": {},
   "outputs": [
    {
     "name": "stdout",
     "output_type": "stream",
     "text": [
      "Pearson Correlation Coeff: 0.8122102721254947\n",
      "MAE: 0.09289182482265591\n",
      "RMSE: 0.12056360862151154\n"
     ]
    },
    {
     "data": {
      "image/png": "[encoded data removed]",
      "text/plain": [
       "<Figure size 432x288 with 1 Axes>"
      ]
     },
     "metadata": {
      "needs_background": "light"
     },
     "output_type": "display_data"
    }
   ],
   "source": [
    "X=df2[['KL/r','w/t ot d/t','Lambda']]\n",
    "y=df2['Fracture life']\n",
    "model = LinearRegression()\n",
    "X_train, X_test, y_train, y_test = train_test_split(X, y, test_size=0.3, random_state=123)\n",
    "model.fit(X_train, y_train)\n",
    "predictions = model.predict(X_test)\n",
    "result = model.score(X_test, y_test)\n",
    "print('Pearson Correlation Coeff:', stats.pearsonr(y_test,predictions)[0])\n",
    "print('MAE:', metrics.mean_absolute_error(y_test, predictions))\n",
    "print('RMSE:', np.sqrt(metrics.mean_squared_error(y_test, predictions)))\n",
    "#Printing the model\n",
    "plt.scatter(y_test,predictions)\n",
    "plt.xlabel('Y Test')\n",
    "plt.ylabel('Predicted Y')\n",
    "plt.show()"
   ]
  },
  {
   "cell_type": "code",
   "execution_count": 55,
   "metadata": {},
   "outputs": [
    {
     "name": "stdout",
     "output_type": "stream",
     "text": [
      "Pearson Correlation Coeff: 0.42401173371433565\n",
      "MAE: 0.12489581890360801\n",
      "RMSE: 0.17850095828650525\n"
     ]
    },
    {
     "data": {
      "image/png": "[encoded data removed]",
      "text/plain": [
       "<Figure size 432x288 with 1 Axes>"
      ]
     },
     "metadata": {
      "needs_background": "light"
     },
     "output_type": "display_data"
    }
   ],
   "source": [
    "#X=df[['KL/r','w/t ot d/t','Lambda']]\n",
    "y=df2['Fractural Strain']\n",
    "model = LinearRegression()\n",
    "X_train, X_test, y_train, y_test = train_test_split(X, y, test_size=0.3, random_state=123)\n",
    "model.fit(X_train, y_train)\n",
    "predictions = model.predict(X_test)\n",
    "result = model.score(X_test, y_test)\n",
    "print('Pearson Correlation Coeff:', stats.pearsonr(y_test,predictions)[0])\n",
    "print('MAE:', metrics.mean_absolute_error(y_test, predictions))\n",
    "print('RMSE:', np.sqrt(metrics.mean_squared_error(y_test, predictions)))\n",
    "#Printing the model\n",
    "plt.scatter(y_test,predictions)\n",
    "plt.xlabel('Y Test')\n",
    "plt.ylabel('Predicted Y')\n",
    "plt.show()"
   ]
  },
  {
   "cell_type": "code",
   "execution_count": 88,
   "metadata": {},
   "outputs": [
    {
     "name": "stdout",
     "output_type": "stream",
     "text": [
      "Pearson Correlation Coeff: -0.026275116156036143\n",
      "MAE: 0.022382554124074333\n",
      "RMSE: 0.030243269725834923\n"
     ]
    },
    {
     "data": {
      "image/png": "[encoded data removed]",
      "text/plain": [
       "<Figure size 432x288 with 1 Axes>"
      ]
     },
     "metadata": {
      "needs_background": "light"
     },
     "output_type": "display_data"
    }
   ],
   "source": [
    "X=df2[['KL/r','w/t ot d/t','Lambda']]\n",
    "y=df2['Imputed Design State(GB)']\n",
    "model = LinearRegression()\n",
    "X_train, X_test, y_train, y_test = train_test_split(X, y, test_size=0.3, random_state=123)\n",
    "model.fit(X_train, y_train)\n",
    "predictions = model.predict(X_test)\n",
    "result = model.score(X_test, y_test)\n",
    "print('Pearson Correlation Coeff:', stats.pearsonr(y_test,predictions)[0])\n",
    "print('MAE:', metrics.mean_absolute_error(y_test, predictions))\n",
    "print('RMSE:', np.sqrt(metrics.mean_squared_error(y_test, predictions)))\n",
    "#Printing the model\n",
    "plt.scatter(y_test,predictions)\n",
    "plt.xlabel('Y Test')\n",
    "plt.ylabel('Predicted Y')\n",
    "plt.show()"
   ]
  },
  {
   "cell_type": "code",
   "execution_count": 90,
   "metadata": {},
   "outputs": [
    {
     "name": "stdout",
     "output_type": "stream",
     "text": [
      "Pearson Correlation Coeff: 0.1385249034689039\n",
      "MAE: 0.03435434563210514\n",
      "RMSE: 0.05223659990505976\n"
     ]
    },
    {
     "data": {
      "image/png": "[encoded data removed]",
      "text/plain": [
       "<Figure size 432x288 with 1 Axes>"
      ]
     },
     "metadata": {
      "needs_background": "light"
     },
     "output_type": "display_data"
    }
   ],
   "source": [
    "X=df2[['KL/r','w/t ot d/t','Lambda']]\n",
    "y=df2['Imputed Design State(LB)']\n",
    "model = LinearRegression()\n",
    "X_train, X_test, y_train, y_test = train_test_split(X, y, test_size=0.3, random_state=123)\n",
    "model.fit(X_train, y_train)\n",
    "predictions = model.predict(X_test)\n",
    "result = model.score(X_test, y_test)\n",
    "print('Pearson Correlation Coeff:', stats.pearsonr(y_test,predictions)[0])\n",
    "print('MAE:', metrics.mean_absolute_error(y_test, predictions))\n",
    "print('RMSE:', np.sqrt(metrics.mean_squared_error(y_test, predictions)))\n",
    "#Printing the model\n",
    "plt.scatter(y_test,predictions)\n",
    "plt.xlabel('Y Test')\n",
    "plt.ylabel('Predicted Y')\n",
    "plt.show()"
   ]
  },
  {
   "cell_type": "markdown",
   "metadata": {},
   "source": [
    "#### Decision Tree Regression"
   ]
  },
  {
   "cell_type": "code",
   "execution_count": 57,
   "metadata": {
    "scrolled": false
   },
   "outputs": [
    {
     "name": "stdout",
     "output_type": "stream",
     "text": [
      "Pearson Correlation Coeff: 0.9909848162431264\n",
      "MAE: 0.010061906624478508\n",
      "RMSE: 0.022861084979607846\n"
     ]
    },
    {
     "data": {
      "image/png": "[encoded data removed]",
      "text/plain": [
       "<Figure size 432x288 with 1 Axes>"
      ]
     },
     "metadata": {
      "needs_background": "light"
     },
     "output_type": "display_data"
    }
   ],
   "source": [
    "X=df2[['KL/r','w/t ot d/t','Lambda']]\n",
    "y=df2['Energy life(N.m)']\n",
    "X_train, X_test, y_train, y_test = model_selection.train_test_split(X, y, test_size=0.30, random_state=123)\n",
    "model = DecisionTreeRegressor(random_state = 0)\n",
    "model.fit(X_train, y_train)\n",
    "predictions = model.predict(X_test)\n",
    "result = model.score(X_test, y_test)\n",
    "print('Pearson Correlation Coeff:', stats.pearsonr(y_test,predictions)[0])\n",
    "print('MAE:', metrics.mean_absolute_error(y_test, predictions))\n",
    "print('RMSE:', np.sqrt(metrics.mean_squared_error(y_test, predictions)))\n",
    "#Printing the model\n",
    "plt.scatter(y_test,predictions)\n",
    "plt.xlabel('Y Test')\n",
    "plt.ylabel('Predicted Y')\n",
    "plt.show()"
   ]
  },
  {
   "cell_type": "code",
   "execution_count": 58,
   "metadata": {},
   "outputs": [
    {
     "name": "stdout",
     "output_type": "stream",
     "text": [
      "Pearson Correlation Coeff: 0.9977207125978655\n",
      "MAE: 0.006453558645778324\n",
      "RMSE: 0.014708884445658675\n"
     ]
    },
    {
     "data": {
      "image/png": "[encoded data removed]",
      "text/plain": [
       "<Figure size 432x288 with 1 Axes>"
      ]
     },
     "metadata": {
      "needs_background": "light"
     },
     "output_type": "display_data"
    }
   ],
   "source": [
    "X=df2[['KL/r','w/t ot d/t','Lambda']]\n",
    "y=df2['Fracture life']\n",
    "X_train, X_test, y_train, y_test = model_selection.train_test_split(X, y, test_size=0.30, random_state=123)\n",
    "model = DecisionTreeRegressor(random_state = 0)\n",
    "model.fit(X_train, y_train)\n",
    "predictions = model.predict(X_test)\n",
    "result = model.score(X_test, y_test)\n",
    "print('Pearson Correlation Coeff:', stats.pearsonr(y_test,predictions)[0])\n",
    "print('MAE:', metrics.mean_absolute_error(y_test, predictions))\n",
    "print('RMSE:', np.sqrt(metrics.mean_squared_error(y_test, predictions)))\n",
    "#Printing the model\n",
    "plt.scatter(y_test,predictions)\n",
    "plt.xlabel('Y Test')\n",
    "plt.ylabel('Predicted Y')\n",
    "plt.show()"
   ]
  },
  {
   "cell_type": "code",
   "execution_count": 59,
   "metadata": {},
   "outputs": [
    {
     "name": "stdout",
     "output_type": "stream",
     "text": [
      "Pearson Correlation Coeff: 0.6309989224701438\n",
      "MAE: 0.06100250626566417\n",
      "RMSE: 0.16245199540939745\n"
     ]
    },
    {
     "data": {
      "image/png": "[encoded data removed]",
      "text/plain": [
       "<Figure size 432x288 with 1 Axes>"
      ]
     },
     "metadata": {
      "needs_background": "light"
     },
     "output_type": "display_data"
    }
   ],
   "source": [
    "X=df2[['KL/r','w/t ot d/t','Lambda']]\n",
    "y=df2['Fractural Strain']\n",
    "X_train, X_test, y_train, y_test = model_selection.train_test_split(X, y, test_size=0.30, random_state=123)\n",
    "model = DecisionTreeRegressor(random_state = 0)\n",
    "model.fit(X_train, y_train)\n",
    "predictions = model.predict(X_test)\n",
    "result = model.score(X_test, y_test)\n",
    "print('Pearson Correlation Coeff:', stats.pearsonr(y_test,predictions)[0])\n",
    "print('MAE:', metrics.mean_absolute_error(y_test, predictions))\n",
    "print('RMSE:', np.sqrt(metrics.mean_squared_error(y_test, predictions)))\n",
    "#Printing the model\n",
    "plt.scatter(y_test,predictions)\n",
    "plt.xlabel('Y Test')\n",
    "plt.ylabel('Predicted Y')\n",
    "plt.show()"
   ]
  },
  {
   "cell_type": "code",
   "execution_count": 60,
   "metadata": {},
   "outputs": [
    {
     "name": "stdout",
     "output_type": "stream",
     "text": [
      "Pearson Correlation Coeff: 0.07457570938047257\n",
      "MAE: 0.03271453110492107\n",
      "RMSE: 0.08464548653241236\n"
     ]
    },
    {
     "data": {
      "image/png": "[encoded data removed]",
      "text/plain": [
       "<Figure size 432x288 with 1 Axes>"
      ]
     },
     "metadata": {
      "needs_background": "light"
     },
     "output_type": "display_data"
    }
   ],
   "source": [
    "X=df2[['KL/r','w/t ot d/t','Lambda']]\n",
    "y=df2['Imputed Design State(GB)']\n",
    "X_train, X_test, y_train, y_test = model_selection.train_test_split(X, y, test_size=0.30, random_state=123)\n",
    "model = DecisionTreeRegressor(random_state = 0)\n",
    "model.fit(X_train, y_train)\n",
    "predictions = model.predict(X_test)\n",
    "result = model.score(X_test, y_test)\n",
    "print('Pearson Correlation Coeff:', stats.pearsonr(y_test,predictions)[0])\n",
    "print('MAE:', metrics.mean_absolute_error(y_test, predictions))\n",
    "print('RMSE:', np.sqrt(metrics.mean_squared_error(y_test, predictions)))\n",
    "#Printing the model\n",
    "plt.scatter(y_test,predictions)\n",
    "plt.xlabel('Y Test')\n",
    "plt.ylabel('Predicted Y')\n",
    "plt.show()"
   ]
  },
  {
   "cell_type": "code",
   "execution_count": 91,
   "metadata": {},
   "outputs": [
    {
     "name": "stdout",
     "output_type": "stream",
     "text": [
      "Pearson Correlation Coeff: 0.4121907337343108\n",
      "MAE: 0.0647857328145266\n",
      "RMSE: 0.12469752151763386\n"
     ]
    },
    {
     "data": {
      "image/png": "[encoded data removed]",
      "text/plain": [
       "<Figure size 432x288 with 1 Axes>"
      ]
     },
     "metadata": {
      "needs_background": "light"
     },
     "output_type": "display_data"
    }
   ],
   "source": [
    "X=df2[['KL/r','w/t ot d/t','Lambda']]\n",
    "y=df2['Imputed Design State(LB)']\n",
    "X_train, X_test, y_train, y_test = model_selection.train_test_split(X, y, test_size=0.30, random_state=123)\n",
    "model = DecisionTreeRegressor(random_state = 0)\n",
    "model.fit(X_train, y_train)\n",
    "predictions = model.predict(X_test)\n",
    "result = model.score(X_test, y_test)\n",
    "print('Pearson Correlation Coeff:', stats.pearsonr(y_test,predictions)[0])\n",
    "print('MAE:', metrics.mean_absolute_error(y_test, predictions))\n",
    "print('RMSE:', np.sqrt(metrics.mean_squared_error(y_test, predictions)))\n",
    "#Printing the model\n",
    "plt.scatter(y_test,predictions)\n",
    "plt.xlabel('Y Test')\n",
    "plt.ylabel('Predicted Y')\n",
    "plt.show()"
   ]
  },
  {
   "cell_type": "markdown",
   "metadata": {},
   "source": [
    "#### Bagging Regression Model "
   ]
  },
  {
   "cell_type": "code",
   "execution_count": 62,
   "metadata": {},
   "outputs": [
    {
     "name": "stdout",
     "output_type": "stream",
     "text": [
      "Pearson Correlation Coeff: 0.995784833417621\n",
      "MAE: 0.00845438508302906\n",
      "RMSE: 0.01694734705706287\n"
     ]
    },
    {
     "data": {
      "image/png": "[encoded data removed]",
      "text/plain": [
       "<Figure size 432x288 with 1 Axes>"
      ]
     },
     "metadata": {
      "needs_background": "light"
     },
     "output_type": "display_data"
    }
   ],
   "source": [
    "X=df2[['KL/r','w/t ot d/t','Lambda']]\n",
    "y=df2['Energy life(N.m)']\n",
    "X_train, X_test, y_train, y_test = model_selection.train_test_split(X, y, test_size=0.30, random_state=123)\n",
    "model = BaggingRegressor(n_estimators=500,random_state=234,n_jobs=4)\n",
    "model.fit(X_train, y_train)\n",
    "predictions = model.predict(X_test)\n",
    "result = model.score(X_test, y_test)\n",
    "print('Pearson Correlation Coeff:', stats.pearsonr(y_test,predictions)[0])\n",
    "print('MAE:', metrics.mean_absolute_error(y_test, predictions))\n",
    "print('RMSE:', np.sqrt(metrics.mean_squared_error(y_test, predictions)))\n",
    "#Printing the model\n",
    "plt.scatter(y_test,predictions)\n",
    "plt.xlabel('Y Test')\n",
    "plt.ylabel('Predicted Y')\n",
    "plt.show()"
   ]
  },
  {
   "cell_type": "code",
   "execution_count": 63,
   "metadata": {},
   "outputs": [
    {
     "name": "stdout",
     "output_type": "stream",
     "text": [
      "Pearson Correlation Coeff: 0.9984276397058047\n",
      "MAE: 0.005804306141608238\n",
      "RMSE: 0.011571521532402793\n"
     ]
    },
    {
     "data": {
      "image/png": "[encoded data removed]",
      "text/plain": [
       "<Figure size 432x288 with 1 Axes>"
      ]
     },
     "metadata": {
      "needs_background": "light"
     },
     "output_type": "display_data"
    }
   ],
   "source": [
    "X=df2[['KL/r','w/t ot d/t','Lambda']]\n",
    "y=df2['Fracture life']\n",
    "X_train, X_test, y_train, y_test = model_selection.train_test_split(X, y, test_size=0.30, random_state=123)\n",
    "model = BaggingRegressor(n_estimators=500,random_state=234,n_jobs=4)\n",
    "model.fit(X_train, y_train)\n",
    "predictions = model.predict(X_test)\n",
    "result = model.score(X_test, y_test)\n",
    "print('Pearson Correlation Coeff:', stats.pearsonr(y_test,predictions)[0])\n",
    "print('MAE:', metrics.mean_absolute_error(y_test, predictions))\n",
    "print('RMSE:', np.sqrt(metrics.mean_squared_error(y_test, predictions)))\n",
    "#Printing the model\n",
    "plt.scatter(y_test,predictions)\n",
    "plt.xlabel('Y Test')\n",
    "plt.ylabel('Predicted Y')\n",
    "plt.show()"
   ]
  },
  {
   "cell_type": "code",
   "execution_count": 64,
   "metadata": {},
   "outputs": [
    {
     "name": "stdout",
     "output_type": "stream",
     "text": [
      "Pearson Correlation Coeff: 0.7893138738985963\n",
      "MAE: 0.05817186466165418\n",
      "RMSE: 0.12074253602254963\n"
     ]
    },
    {
     "data": {
      "image/png": "[encoded data removed]",
      "text/plain": [
       "<Figure size 432x288 with 1 Axes>"
      ]
     },
     "metadata": {
      "needs_background": "light"
     },
     "output_type": "display_data"
    }
   ],
   "source": [
    "X=df2[['KL/r','w/t ot d/t','Lambda']]\n",
    "y=df2['Fractural Strain']\n",
    "X_train, X_test, y_train, y_test = model_selection.train_test_split(X, y, test_size=0.30, random_state=123)\n",
    "model = BaggingRegressor(n_estimators=500,random_state=234,n_jobs=4)\n",
    "model.fit(X_train, y_train)\n",
    "predictions = model.predict(X_test)\n",
    "result = model.score(X_test, y_test)\n",
    "print('Pearson Correlation Coeff:', stats.pearsonr(y_test,predictions)[0])\n",
    "print('MAE:', metrics.mean_absolute_error(y_test, predictions))\n",
    "print('RMSE:', np.sqrt(metrics.mean_squared_error(y_test, predictions)))\n",
    "#Printing the model\n",
    "plt.scatter(y_test,predictions)\n",
    "plt.xlabel('Y Test')\n",
    "plt.ylabel('Predicted Y')\n",
    "plt.show()"
   ]
  },
  {
   "cell_type": "code",
   "execution_count": 65,
   "metadata": {},
   "outputs": [
    {
     "name": "stdout",
     "output_type": "stream",
     "text": [
      "Pearson Correlation Coeff: 0.08243781538892819\n",
      "MAE: 0.03265261026372067\n",
      "RMSE: 0.07543374712980047\n"
     ]
    },
    {
     "data": {
      "image/png": "[encoded data removed]",
      "text/plain": [
       "<Figure size 432x288 with 1 Axes>"
      ]
     },
     "metadata": {
      "needs_background": "light"
     },
     "output_type": "display_data"
    }
   ],
   "source": [
    "X=df2[['KL/r','w/t ot d/t','Lambda']]\n",
    "y=df2['Imputed Design State(GB)']\n",
    "X_train, X_test, y_train, y_test = model_selection.train_test_split(X, y, test_size=0.30, random_state=123)\n",
    "model = BaggingRegressor(n_estimators=500,random_state=234,n_jobs=4)\n",
    "model.fit(X_train, y_train)\n",
    "predictions = model.predict(X_test)\n",
    "result = model.score(X_test, y_test)\n",
    "print('Pearson Correlation Coeff:', stats.pearsonr(y_test,predictions)[0])\n",
    "print('MAE:', metrics.mean_absolute_error(y_test, predictions))\n",
    "print('RMSE:', np.sqrt(metrics.mean_squared_error(y_test, predictions)))\n",
    "#Printing the model\n",
    "plt.scatter(y_test,predictions)\n",
    "plt.xlabel('Y Test')\n",
    "plt.ylabel('Predicted Y')\n",
    "plt.show()"
   ]
  },
  {
   "cell_type": "code",
   "execution_count": 89,
   "metadata": {},
   "outputs": [
    {
     "name": "stdout",
     "output_type": "stream",
     "text": [
      "Pearson Correlation Coeff: 0.5312833886289116\n",
      "MAE: 0.04617579085469513\n",
      "RMSE: 0.06681691228250883\n"
     ]
    },
    {
     "data": {
      "image/png": "[encoded data removed]",
      "text/plain": [
       "<Figure size 432x288 with 1 Axes>"
      ]
     },
     "metadata": {
      "needs_background": "light"
     },
     "output_type": "display_data"
    }
   ],
   "source": [
    "X=df2[['KL/r','w/t ot d/t','Lambda']]\n",
    "y=df2['Imputed Design State(LB)']\n",
    "X_train, X_test, y_train, y_test = model_selection.train_test_split(X, y, test_size=0.30, random_state=123)\n",
    "model = BaggingRegressor(n_estimators=500,random_state=234,n_jobs=4)\n",
    "model.fit(X_train, y_train)\n",
    "predictions = model.predict(X_test)\n",
    "result = model.score(X_test, y_test)\n",
    "print('Pearson Correlation Coeff:', stats.pearsonr(y_test,predictions)[0])\n",
    "print('MAE:', metrics.mean_absolute_error(y_test, predictions))\n",
    "print('RMSE:', np.sqrt(metrics.mean_squared_error(y_test, predictions)))\n",
    "#Printing the model\n",
    "plt.scatter(y_test,predictions)\n",
    "plt.xlabel('Y Test')\n",
    "plt.ylabel('Predicted Y')\n",
    "plt.show()"
   ]
  },
  {
   "cell_type": "markdown",
   "metadata": {},
   "source": [
    "#### Support Vector Machine Regression Model"
   ]
  },
  {
   "cell_type": "code",
   "execution_count": 66,
   "metadata": {},
   "outputs": [
    {
     "name": "stdout",
     "output_type": "stream",
     "text": [
      "Pearson Correlation Coeff: 0.9440706388092996\n",
      "MAE: 0.05262580424049308\n",
      "RMSE: 0.06302518388938687\n"
     ]
    },
    {
     "data": {
      "image/png": "[encoded data removed]",
      "text/plain": [
       "<Figure size 432x288 with 1 Axes>"
      ]
     },
     "metadata": {
      "needs_background": "light"
     },
     "output_type": "display_data"
    }
   ],
   "source": [
    "X=df2[['KL/r','w/t ot d/t','Lambda']]\n",
    "y=df2['Energy life(N.m)']\n",
    "X_train, X_test, y_train, y_test = model_selection.train_test_split(X, y, test_size=0.30, random_state=123)\n",
    "model = SVR(kernel='rbf')\n",
    "model.fit(X_train, y_train)\n",
    "predictions = model.predict(X_test)\n",
    "result = model.score(X_test, y_test)\n",
    "print('Pearson Correlation Coeff:', stats.pearsonr(y_test,predictions)[0])\n",
    "print('MAE:', metrics.mean_absolute_error(y_test, predictions))\n",
    "print('RMSE:', np.sqrt(metrics.mean_squared_error(y_test, predictions)))\n",
    "#Printing the model\n",
    "plt.scatter(y_test,predictions)\n",
    "plt.xlabel('Y Test')\n",
    "plt.ylabel('Predicted Y')\n",
    "plt.show()"
   ]
  },
  {
   "cell_type": "code",
   "execution_count": 67,
   "metadata": {
    "scrolled": true
   },
   "outputs": [
    {
     "name": "stdout",
     "output_type": "stream",
     "text": [
      "Pearson Correlation Coeff: 0.9654508200140157\n",
      "MAE: 0.05739784337034907\n",
      "RMSE: 0.06626705181301411\n"
     ]
    },
    {
     "data": {
      "image/png": "[encoded data removed]",
      "text/plain": [
       "<Figure size 432x288 with 1 Axes>"
      ]
     },
     "metadata": {
      "needs_background": "light"
     },
     "output_type": "display_data"
    }
   ],
   "source": [
    "X=df2[['KL/r','w/t ot d/t','Lambda']]\n",
    "y=df2['Fracture life']\n",
    "X_train, X_test, y_train, y_test = model_selection.train_test_split(X, y, test_size=0.30, random_state=123)\n",
    "model = SVR(kernel='rbf')\n",
    "model.fit(X_train, y_train)\n",
    "predictions = model.predict(X_test)\n",
    "result = model.score(X_test, y_test)\n",
    "print('Pearson Correlation Coeff:', stats.pearsonr(y_test,predictions)[0])\n",
    "print('MAE:', metrics.mean_absolute_error(y_test, predictions))\n",
    "print('RMSE:', np.sqrt(metrics.mean_squared_error(y_test, predictions)))\n",
    "#Printing the model\n",
    "plt.scatter(y_test,predictions)\n",
    "plt.xlabel('Y Test')\n",
    "plt.ylabel('Predicted Y')\n",
    "plt.show()"
   ]
  },
  {
   "cell_type": "code",
   "execution_count": 68,
   "metadata": {},
   "outputs": [
    {
     "name": "stdout",
     "output_type": "stream",
     "text": [
      "Pearson Correlation Coeff: 0.4809509824428446\n",
      "MAE: 0.11877089653213099\n",
      "RMSE: 0.17335895407594806\n"
     ]
    },
    {
     "data": {
      "image/png": "[encoded data removed]",
      "text/plain": [
       "<Figure size 432x288 with 1 Axes>"
      ]
     },
     "metadata": {
      "needs_background": "light"
     },
     "output_type": "display_data"
    }
   ],
   "source": [
    "X=df2[['KL/r','w/t ot d/t','Lambda']]\n",
    "y=df2['Fractural Strain']\n",
    "X_train, X_test, y_train, y_test = model_selection.train_test_split(X, y, test_size=0.30, random_state=123)\n",
    "model = SVR(kernel='rbf')\n",
    "model.fit(X_train, y_train)\n",
    "predictions = model.predict(X_test)\n",
    "result = model.score(X_test, y_test)\n",
    "print('Pearson Correlation Coeff:', stats.pearsonr(y_test,predictions)[0])\n",
    "print('MAE:', metrics.mean_absolute_error(y_test, predictions))\n",
    "print('RMSE:', np.sqrt(metrics.mean_squared_error(y_test, predictions)))\n",
    "#Printing the model\n",
    "plt.scatter(y_test,predictions)\n",
    "plt.xlabel('Y Test')\n",
    "plt.ylabel('Predicted Y')\n",
    "plt.show()"
   ]
  },
  {
   "cell_type": "code",
   "execution_count": 69,
   "metadata": {},
   "outputs": [
    {
     "name": "stdout",
     "output_type": "stream",
     "text": [
      "Pearson Correlation Coeff: 0.20801536150751213\n",
      "MAE: 0.04155315808920268\n",
      "RMSE: 0.04986155017145172\n"
     ]
    },
    {
     "data": {
      "image/png": "[encoded data removed]",
      "text/plain": [
       "<Figure size 432x288 with 1 Axes>"
      ]
     },
     "metadata": {
      "needs_background": "light"
     },
     "output_type": "display_data"
    }
   ],
   "source": [
    "X=df2[['KL/r','w/t ot d/t','Lambda']]\n",
    "y=df2['Imputed Design State(GB)']\n",
    "X_train, X_test, y_train, y_test = model_selection.train_test_split(X, y, test_size=0.30, random_state=123)\n",
    "model = SVR(kernel='rbf')\n",
    "model.fit(X_train, y_train)\n",
    "predictions = model.predict(X_test)\n",
    "result = model.score(X_test, y_test)\n",
    "print('Pearson Correlation Coeff:', stats.pearsonr(y_test,predictions)[0])\n",
    "print('MAE:', metrics.mean_absolute_error(y_test, predictions))\n",
    "print('RMSE:', np.sqrt(metrics.mean_squared_error(y_test, predictions)))\n",
    "#Printing the model\n",
    "plt.scatter(y_test,predictions)\n",
    "plt.xlabel('Y Test')\n",
    "plt.ylabel('Predicted Y')\n",
    "plt.show()"
   ]
  },
  {
   "cell_type": "code",
   "execution_count": 92,
   "metadata": {},
   "outputs": [
    {
     "name": "stdout",
     "output_type": "stream",
     "text": [
      "Pearson Correlation Coeff: 0.2923770871520144\n",
      "MAE: 0.04969462510619558\n",
      "RMSE: 0.06004211919225565\n"
     ]
    },
    {
     "data": {
      "image/png": "[encoded data removed]",
      "text/plain": [
       "<Figure size 432x288 with 1 Axes>"
      ]
     },
     "metadata": {
      "needs_background": "light"
     },
     "output_type": "display_data"
    }
   ],
   "source": [
    "X=df2[['KL/r','w/t ot d/t','Lambda']]\n",
    "y=df2['Imputed Design State(LB)']\n",
    "X_train, X_test, y_train, y_test = model_selection.train_test_split(X, y, test_size=0.30, random_state=123)\n",
    "model = SVR(kernel='rbf')\n",
    "model.fit(X_train, y_train)\n",
    "predictions = model.predict(X_test)\n",
    "result = model.score(X_test, y_test)\n",
    "print('Pearson Correlation Coeff:', stats.pearsonr(y_test,predictions)[0])\n",
    "print('MAE:', metrics.mean_absolute_error(y_test, predictions))\n",
    "print('RMSE:', np.sqrt(metrics.mean_squared_error(y_test, predictions)))\n",
    "#Printing the model\n",
    "plt.scatter(y_test,predictions)\n",
    "plt.xlabel('Y Test')\n",
    "plt.ylabel('Predicted Y')\n",
    "plt.show()"
   ]
  },
  {
   "cell_type": "markdown",
   "metadata": {},
   "source": [
    "#### Gradient Boosting Regression Model"
   ]
  },
  {
   "cell_type": "code",
   "execution_count": 75,
   "metadata": {
    "scrolled": true
   },
   "outputs": [
    {
     "name": "stdout",
     "output_type": "stream",
     "text": [
      "Pearson Correlation Coeff: 0.9965030927328391\n",
      "MAE: 0.008300922564616241\n",
      "RMSE: 0.014437078212155499\n"
     ]
    },
    {
     "data": {
      "image/png": "[encoded data removed]",
      "text/plain": [
       "<Figure size 432x288 with 1 Axes>"
      ]
     },
     "metadata": {
      "needs_background": "light"
     },
     "output_type": "display_data"
    }
   ],
   "source": [
    "X=df2[['KL/r','w/t ot d/t','Lambda']]\n",
    "y=df2['Energy life(N.m)']\n",
    "params={'n_estimators':500,'max_depth':4,'min_samples_split':2,\n",
    "        'learning_rate':0.01,'loss':'ls'}\n",
    "\n",
    "X_train, X_test, y_train, y_test = model_selection.train_test_split(X, y, test_size=0.30, random_state=123)\n",
    "model=GradientBoostingRegressor(**params)\n",
    "model.fit(X_train, y_train)\n",
    "predictions = model.predict(X_test)\n",
    "result = model.score(X_test, y_test)\n",
    "print('Pearson Correlation Coeff:', stats.pearsonr(y_test,predictions)[0])\n",
    "print('MAE:', metrics.mean_absolute_error(y_test, predictions))\n",
    "print('RMSE:', np.sqrt(metrics.mean_squared_error(y_test, predictions)))\n",
    "#Printing the model\n",
    "plt.scatter(y_test,predictions)\n",
    "plt.xlabel('Y Test')\n",
    "plt.ylabel('Predicted Y')\n",
    "plt.show()"
   ]
  },
  {
   "cell_type": "code",
   "execution_count": 71,
   "metadata": {},
   "outputs": [
    {
     "name": "stdout",
     "output_type": "stream",
     "text": [
      "Pearson Correlation Coeff: 0.9990860717274452\n",
      "MAE: 0.005415686367543414\n",
      "RMSE: 0.009005203117765242\n"
     ]
    },
    {
     "data": {
      "image/png": "[encoded data removed]",
      "text/plain": [
       "<Figure size 432x288 with 1 Axes>"
      ]
     },
     "metadata": {
      "needs_background": "light"
     },
     "output_type": "display_data"
    }
   ],
   "source": [
    "X=df2[['KL/r','w/t ot d/t','Lambda']]\n",
    "y=df2['Fracture life']\n",
    "params={'n_estimators':500,'max_depth':4,'min_samples_split':2,\n",
    "        'learning_rate':0.01,'loss':'ls'}\n",
    "\n",
    "X_train, X_test, y_train, y_test = model_selection.train_test_split(X, y, test_size=0.30, random_state=123)\n",
    "model=GradientBoostingRegressor(**params)\n",
    "model.fit(X_train, y_train)\n",
    "predictions = model.predict(X_test)\n",
    "result = model.score(X_test, y_test)\n",
    "print('Pearson Correlation Coeff:', stats.pearsonr(y_test,predictions)[0])\n",
    "print('MAE:', metrics.mean_absolute_error(y_test, predictions))\n",
    "print('RMSE:', np.sqrt(metrics.mean_squared_error(y_test, predictions)))\n",
    "#Printing the model\n",
    "plt.scatter(y_test,predictions)\n",
    "plt.xlabel('Y Test')\n",
    "plt.ylabel('Predicted Y')\n",
    "plt.show()"
   ]
  },
  {
   "cell_type": "code",
   "execution_count": 72,
   "metadata": {},
   "outputs": [
    {
     "name": "stdout",
     "output_type": "stream",
     "text": [
      "Pearson Correlation Coeff: 0.8214151607848499\n",
      "MAE: 0.06495982953146674\n",
      "RMSE: 0.1128389934890859\n"
     ]
    },
    {
     "data": {
      "image/png": "[encoded data removed]",
      "text/plain": [
       "<Figure size 432x288 with 1 Axes>"
      ]
     },
     "metadata": {
      "needs_background": "light"
     },
     "output_type": "display_data"
    }
   ],
   "source": [
    "X=df2[['KL/r','w/t ot d/t','Lambda']]\n",
    "y=df2['Fractural Strain']\n",
    "params={'n_estimators':500,'max_depth':4,'min_samples_split':2,\n",
    "        'learning_rate':0.01,'loss':'ls'}\n",
    "\n",
    "X_train, X_test, y_train, y_test = model_selection.train_test_split(X, y, test_size=0.30, random_state=123)\n",
    "model=GradientBoostingRegressor(**params)\n",
    "model.fit(X_train, y_train)\n",
    "predictions = model.predict(X_test)\n",
    "result = model.score(X_test, y_test)\n",
    "print('Pearson Correlation Coeff:', stats.pearsonr(y_test,predictions)[0])\n",
    "print('MAE:', metrics.mean_absolute_error(y_test, predictions))\n",
    "print('RMSE:', np.sqrt(metrics.mean_squared_error(y_test, predictions)))\n",
    "#Printing the model\n",
    "plt.scatter(y_test,predictions)\n",
    "plt.xlabel('Y Test')\n",
    "plt.ylabel('Predicted Y')\n",
    "plt.show()"
   ]
  },
  {
   "cell_type": "code",
   "execution_count": 73,
   "metadata": {},
   "outputs": [
    {
     "name": "stdout",
     "output_type": "stream",
     "text": [
      "Pearson Correlation Coeff: 0.06431559570595524\n",
      "MAE: 0.03324484423205429\n",
      "RMSE: 0.07756063411446203\n"
     ]
    },
    {
     "data": {
      "image/png": "[encoded data removed]",
      "text/plain": [
       "<Figure size 432x288 with 1 Axes>"
      ]
     },
     "metadata": {
      "needs_background": "light"
     },
     "output_type": "display_data"
    }
   ],
   "source": [
    "X=df2[['KL/r','w/t ot d/t','Lambda']]\n",
    "y=df2['Imputed Design State(GB)']\n",
    "params={'n_estimators':500,'max_depth':4,'min_samples_split':2,\n",
    "        'learning_rate':0.01,'loss':'ls'}\n",
    "\n",
    "X_train, X_test, y_train, y_test = model_selection.train_test_split(X, y, test_size=0.30, random_state=123)\n",
    "model=GradientBoostingRegressor(**params)\n",
    "model.fit(X_train, y_train)\n",
    "predictions = model.predict(X_test)\n",
    "result = model.score(X_test, y_test)\n",
    "print('Pearson Correlation Coeff:', stats.pearsonr(y_test,predictions)[0])\n",
    "print('MAE:', metrics.mean_absolute_error(y_test, predictions))\n",
    "print('RMSE:', np.sqrt(metrics.mean_squared_error(y_test, predictions)))\n",
    "#Printing the model\n",
    "plt.scatter(y_test,predictions)\n",
    "plt.xlabel('Y Test')\n",
    "plt.ylabel('Predicted Y')\n",
    "plt.show()"
   ]
  },
  {
   "cell_type": "code",
   "execution_count": 93,
   "metadata": {
    "scrolled": true
   },
   "outputs": [
    {
     "name": "stdout",
     "output_type": "stream",
     "text": [
      "Pearson Correlation Coeff: 0.48333082553623513\n",
      "MAE: 0.045347709150912414\n",
      "RMSE: 0.0719432405366641\n"
     ]
    },
    {
     "data": {
      "image/png": "[encoded data removed]",
      "text/plain": [
       "<Figure size 432x288 with 1 Axes>"
      ]
     },
     "metadata": {
      "needs_background": "light"
     },
     "output_type": "display_data"
    }
   ],
   "source": [
    "X=df2[['KL/r','w/t ot d/t','Lambda']]\n",
    "y=df2['Imputed Design State(LB)']\n",
    "params={'n_estimators':500,'max_depth':4,'min_samples_split':2,\n",
    "        'learning_rate':0.01,'loss':'ls'}\n",
    "\n",
    "X_train, X_test, y_train, y_test = model_selection.train_test_split(X, y, test_size=0.30, random_state=123)\n",
    "model=GradientBoostingRegressor(**params)\n",
    "model.fit(X_train, y_train)\n",
    "predictions = model.predict(X_test)\n",
    "result = model.score(X_test, y_test)\n",
    "print('Pearson Correlation Coeff:', stats.pearsonr(y_test,predictions)[0])\n",
    "print('MAE:', metrics.mean_absolute_error(y_test, predictions))\n",
    "print('RMSE:', np.sqrt(metrics.mean_squared_error(y_test, predictions)))\n",
    "#Printing the model\n",
    "plt.scatter(y_test,predictions)\n",
    "plt.xlabel('Y Test')\n",
    "plt.ylabel('Predicted Y')\n",
    "plt.show()"
   ]
  },
  {
   "cell_type": "code",
   "execution_count": null,
   "metadata": {},
   "outputs": [],
   "source": []
  }
 ],
 "metadata": {
  "kernelspec": {
   "display_name": "Python 3",
   "language": "python",
   "name": "python3"
  },
  "language_info": {
   "codemirror_mode": {
    "name": "ipython",
    "version": 3
   },
   "file_extension": ".py",
   "mimetype": "text/x-python",
   "name": "python",
   "nbconvert_exporter": "python",
   "pygments_lexer": "ipython3",
   "version": "3.8.3"
  }
 },
 "nbformat": 4,
 "nbformat_minor": 2
}
